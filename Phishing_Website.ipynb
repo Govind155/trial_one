{
 "cells": [
  {
   "cell_type": "code",
   "execution_count": 185,
   "metadata": {
    "id": "lY1aZPjZMv7F"
   },
   "outputs": [],
   "source": [
    "import numpy as np\n",
    "import pandas as pd\n",
    "import seaborn as sns\n",
    "import matplotlib.pyplot as plt\n",
    "import random\n",
    "import pickle\n"
   ]
  },
  {
   "cell_type": "code",
   "execution_count": 152,
   "metadata": {
    "id": "G7YgtQvUM5Rh"
   },
   "outputs": [],
   "source": [
    "df = pd.read_csv('https://raw.githubusercontent.com/Govind155/Web-Phishing-Detection-/main/dataset.csv')"
   ]
  },
  {
   "cell_type": "code",
   "execution_count": 153,
   "metadata": {
    "colab": {
     "base_uri": "https://localhost:8080/",
     "height": 224
    },
    "id": "yCTFeE7AOMD1",
    "outputId": "adcbfd34-b1ef-40fe-dadd-614c04a83a4a"
   },
   "outputs": [
    {
     "data": {
      "text/html": [
       "<div>\n",
       "<style scoped>\n",
       "    .dataframe tbody tr th:only-of-type {\n",
       "        vertical-align: middle;\n",
       "    }\n",
       "\n",
       "    .dataframe tbody tr th {\n",
       "        vertical-align: top;\n",
       "    }\n",
       "\n",
       "    .dataframe thead th {\n",
       "        text-align: right;\n",
       "    }\n",
       "</style>\n",
       "<table border=\"1\" class=\"dataframe\">\n",
       "  <thead>\n",
       "    <tr style=\"text-align: right;\">\n",
       "      <th></th>\n",
       "      <th>index</th>\n",
       "      <th>having_IPhaving_IP_Address</th>\n",
       "      <th>URLURL_Length</th>\n",
       "      <th>Shortining_Service</th>\n",
       "      <th>having_At_Symbol</th>\n",
       "      <th>double_slash_redirecting</th>\n",
       "      <th>Prefix_Suffix</th>\n",
       "      <th>having_Sub_Domain</th>\n",
       "      <th>SSLfinal_State</th>\n",
       "      <th>Domain_registeration_length</th>\n",
       "      <th>...</th>\n",
       "      <th>popUpWidnow</th>\n",
       "      <th>Iframe</th>\n",
       "      <th>age_of_domain</th>\n",
       "      <th>DNSRecord</th>\n",
       "      <th>web_traffic</th>\n",
       "      <th>Page_Rank</th>\n",
       "      <th>Google_Index</th>\n",
       "      <th>Links_pointing_to_page</th>\n",
       "      <th>Statistical_report</th>\n",
       "      <th>Result</th>\n",
       "    </tr>\n",
       "  </thead>\n",
       "  <tbody>\n",
       "    <tr>\n",
       "      <th>0</th>\n",
       "      <td>1</td>\n",
       "      <td>-1</td>\n",
       "      <td>1</td>\n",
       "      <td>1</td>\n",
       "      <td>NaN</td>\n",
       "      <td>-1</td>\n",
       "      <td>-1</td>\n",
       "      <td>-1</td>\n",
       "      <td>-1</td>\n",
       "      <td>-1</td>\n",
       "      <td>...</td>\n",
       "      <td>1</td>\n",
       "      <td>1</td>\n",
       "      <td>-1</td>\n",
       "      <td>-1</td>\n",
       "      <td>-1</td>\n",
       "      <td>-1</td>\n",
       "      <td>1</td>\n",
       "      <td>1</td>\n",
       "      <td>-1</td>\n",
       "      <td>-1</td>\n",
       "    </tr>\n",
       "    <tr>\n",
       "      <th>1</th>\n",
       "      <td>2</td>\n",
       "      <td>1</td>\n",
       "      <td>1</td>\n",
       "      <td>1</td>\n",
       "      <td>1.0</td>\n",
       "      <td>1</td>\n",
       "      <td>-1</td>\n",
       "      <td>0</td>\n",
       "      <td>1</td>\n",
       "      <td>-1</td>\n",
       "      <td>...</td>\n",
       "      <td>1</td>\n",
       "      <td>1</td>\n",
       "      <td>-1</td>\n",
       "      <td>-1</td>\n",
       "      <td>0</td>\n",
       "      <td>-1</td>\n",
       "      <td>1</td>\n",
       "      <td>1</td>\n",
       "      <td>1</td>\n",
       "      <td>-1</td>\n",
       "    </tr>\n",
       "    <tr>\n",
       "      <th>2</th>\n",
       "      <td>3</td>\n",
       "      <td>1</td>\n",
       "      <td>0</td>\n",
       "      <td>1</td>\n",
       "      <td>1.0</td>\n",
       "      <td>1</td>\n",
       "      <td>-1</td>\n",
       "      <td>-1</td>\n",
       "      <td>-1</td>\n",
       "      <td>-1</td>\n",
       "      <td>...</td>\n",
       "      <td>1</td>\n",
       "      <td>1</td>\n",
       "      <td>1</td>\n",
       "      <td>-1</td>\n",
       "      <td>1</td>\n",
       "      <td>-1</td>\n",
       "      <td>1</td>\n",
       "      <td>0</td>\n",
       "      <td>-1</td>\n",
       "      <td>-1</td>\n",
       "    </tr>\n",
       "    <tr>\n",
       "      <th>3</th>\n",
       "      <td>4</td>\n",
       "      <td>1</td>\n",
       "      <td>0</td>\n",
       "      <td>1</td>\n",
       "      <td>1.0</td>\n",
       "      <td>1</td>\n",
       "      <td>-1</td>\n",
       "      <td>-1</td>\n",
       "      <td>-1</td>\n",
       "      <td>1</td>\n",
       "      <td>...</td>\n",
       "      <td>1</td>\n",
       "      <td>1</td>\n",
       "      <td>-1</td>\n",
       "      <td>-1</td>\n",
       "      <td>1</td>\n",
       "      <td>-1</td>\n",
       "      <td>1</td>\n",
       "      <td>-1</td>\n",
       "      <td>1</td>\n",
       "      <td>-1</td>\n",
       "    </tr>\n",
       "    <tr>\n",
       "      <th>4</th>\n",
       "      <td>5</td>\n",
       "      <td>1</td>\n",
       "      <td>0</td>\n",
       "      <td>-1</td>\n",
       "      <td>NaN</td>\n",
       "      <td>1</td>\n",
       "      <td>-1</td>\n",
       "      <td>1</td>\n",
       "      <td>1</td>\n",
       "      <td>-1</td>\n",
       "      <td>...</td>\n",
       "      <td>-1</td>\n",
       "      <td>1</td>\n",
       "      <td>-1</td>\n",
       "      <td>-1</td>\n",
       "      <td>0</td>\n",
       "      <td>-1</td>\n",
       "      <td>1</td>\n",
       "      <td>1</td>\n",
       "      <td>1</td>\n",
       "      <td>1</td>\n",
       "    </tr>\n",
       "  </tbody>\n",
       "</table>\n",
       "<p>5 rows × 32 columns</p>\n",
       "</div>"
      ],
      "text/plain": [
       "   index  having_IPhaving_IP_Address  URLURL_Length  Shortining_Service  \\\n",
       "0      1                          -1              1                   1   \n",
       "1      2                           1              1                   1   \n",
       "2      3                           1              0                   1   \n",
       "3      4                           1              0                   1   \n",
       "4      5                           1              0                  -1   \n",
       "\n",
       "   having_At_Symbol  double_slash_redirecting  Prefix_Suffix  \\\n",
       "0               NaN                        -1             -1   \n",
       "1               1.0                         1             -1   \n",
       "2               1.0                         1             -1   \n",
       "3               1.0                         1             -1   \n",
       "4               NaN                         1             -1   \n",
       "\n",
       "   having_Sub_Domain  SSLfinal_State  Domain_registeration_length  ...  \\\n",
       "0                 -1              -1                           -1  ...   \n",
       "1                  0               1                           -1  ...   \n",
       "2                 -1              -1                           -1  ...   \n",
       "3                 -1              -1                            1  ...   \n",
       "4                  1               1                           -1  ...   \n",
       "\n",
       "   popUpWidnow  Iframe  age_of_domain  DNSRecord  web_traffic  Page_Rank  \\\n",
       "0            1       1             -1         -1           -1         -1   \n",
       "1            1       1             -1         -1            0         -1   \n",
       "2            1       1              1         -1            1         -1   \n",
       "3            1       1             -1         -1            1         -1   \n",
       "4           -1       1             -1         -1            0         -1   \n",
       "\n",
       "   Google_Index  Links_pointing_to_page  Statistical_report  Result  \n",
       "0             1                       1                  -1      -1  \n",
       "1             1                       1                   1      -1  \n",
       "2             1                       0                  -1      -1  \n",
       "3             1                      -1                   1      -1  \n",
       "4             1                       1                   1       1  \n",
       "\n",
       "[5 rows x 32 columns]"
      ]
     },
     "execution_count": 153,
     "metadata": {},
     "output_type": "execute_result"
    }
   ],
   "source": [
    "df.head()"
   ]
  },
  {
   "cell_type": "code",
   "execution_count": 154,
   "metadata": {
    "colab": {
     "base_uri": "https://localhost:8080/",
     "height": 351
    },
    "id": "Gq1iPzRSOtx8",
    "outputId": "9fc7ff1a-df37-4332-a546-2056127b1992"
   },
   "outputs": [
    {
     "data": {
      "image/png": "[encoded data removed]",
      "text/plain": [
       "<Figure size 432x288 with 2 Axes>"
      ]
     },
     "metadata": {},
     "output_type": "display_data"
    }
   ],
   "source": [
    "sns.heatmap(df[0:120].isnull(), cmap= 'viridis')\n",
    "plt.savefig('heatmap.png')"
   ]
  },
  {
   "cell_type": "code",
   "execution_count": 155,
   "metadata": {
    "colab": {
     "base_uri": "https://localhost:8080/",
     "height": 317
    },
    "id": "T5Z-lxbQlAzQ",
    "outputId": "245d1dfb-4d5f-4c0f-dbf7-e5fc1e3fc850"
   },
   "outputs": [
    {
     "data": {
      "text/html": [
       "<div>\n",
       "<style scoped>\n",
       "    .dataframe tbody tr th:only-of-type {\n",
       "        vertical-align: middle;\n",
       "    }\n",
       "\n",
       "    .dataframe tbody tr th {\n",
       "        vertical-align: top;\n",
       "    }\n",
       "\n",
       "    .dataframe thead th {\n",
       "        text-align: right;\n",
       "    }\n",
       "</style>\n",
       "<table border=\"1\" class=\"dataframe\">\n",
       "  <thead>\n",
       "    <tr style=\"text-align: right;\">\n",
       "      <th></th>\n",
       "      <th>index</th>\n",
       "      <th>having_IPhaving_IP_Address</th>\n",
       "      <th>URLURL_Length</th>\n",
       "      <th>Shortining_Service</th>\n",
       "      <th>having_At_Symbol</th>\n",
       "      <th>double_slash_redirecting</th>\n",
       "      <th>Prefix_Suffix</th>\n",
       "      <th>having_Sub_Domain</th>\n",
       "      <th>SSLfinal_State</th>\n",
       "      <th>Domain_registeration_length</th>\n",
       "      <th>...</th>\n",
       "      <th>popUpWidnow</th>\n",
       "      <th>Iframe</th>\n",
       "      <th>age_of_domain</th>\n",
       "      <th>DNSRecord</th>\n",
       "      <th>web_traffic</th>\n",
       "      <th>Page_Rank</th>\n",
       "      <th>Google_Index</th>\n",
       "      <th>Links_pointing_to_page</th>\n",
       "      <th>Statistical_report</th>\n",
       "      <th>Result</th>\n",
       "    </tr>\n",
       "  </thead>\n",
       "  <tbody>\n",
       "    <tr>\n",
       "      <th>count</th>\n",
       "      <td>11055.000000</td>\n",
       "      <td>11055.000000</td>\n",
       "      <td>11055.000000</td>\n",
       "      <td>11055.000000</td>\n",
       "      <td>10959.000000</td>\n",
       "      <td>11055.000000</td>\n",
       "      <td>11055.000000</td>\n",
       "      <td>11055.000000</td>\n",
       "      <td>11055.000000</td>\n",
       "      <td>11055.000000</td>\n",
       "      <td>...</td>\n",
       "      <td>11055.000000</td>\n",
       "      <td>11055.000000</td>\n",
       "      <td>11055.000000</td>\n",
       "      <td>11055.000000</td>\n",
       "      <td>11055.000000</td>\n",
       "      <td>11055.000000</td>\n",
       "      <td>11055.000000</td>\n",
       "      <td>11055.000000</td>\n",
       "      <td>11055.000000</td>\n",
       "      <td>11055.000000</td>\n",
       "    </tr>\n",
       "    <tr>\n",
       "      <th>mean</th>\n",
       "      <td>5528.000000</td>\n",
       "      <td>0.313795</td>\n",
       "      <td>-0.633198</td>\n",
       "      <td>0.738761</td>\n",
       "      <td>0.703440</td>\n",
       "      <td>0.741474</td>\n",
       "      <td>-0.734962</td>\n",
       "      <td>0.063953</td>\n",
       "      <td>0.250927</td>\n",
       "      <td>-0.336771</td>\n",
       "      <td>...</td>\n",
       "      <td>0.613388</td>\n",
       "      <td>0.816915</td>\n",
       "      <td>0.061239</td>\n",
       "      <td>0.377114</td>\n",
       "      <td>0.287291</td>\n",
       "      <td>-0.483673</td>\n",
       "      <td>0.721574</td>\n",
       "      <td>0.344007</td>\n",
       "      <td>0.719584</td>\n",
       "      <td>0.113885</td>\n",
       "    </tr>\n",
       "    <tr>\n",
       "      <th>std</th>\n",
       "      <td>3191.447947</td>\n",
       "      <td>0.949534</td>\n",
       "      <td>0.766095</td>\n",
       "      <td>0.673998</td>\n",
       "      <td>0.710787</td>\n",
       "      <td>0.671011</td>\n",
       "      <td>0.678139</td>\n",
       "      <td>0.817518</td>\n",
       "      <td>0.911892</td>\n",
       "      <td>0.941629</td>\n",
       "      <td>...</td>\n",
       "      <td>0.789818</td>\n",
       "      <td>0.576784</td>\n",
       "      <td>0.998168</td>\n",
       "      <td>0.926209</td>\n",
       "      <td>0.827733</td>\n",
       "      <td>0.875289</td>\n",
       "      <td>0.692369</td>\n",
       "      <td>0.569944</td>\n",
       "      <td>0.694437</td>\n",
       "      <td>0.993539</td>\n",
       "    </tr>\n",
       "    <tr>\n",
       "      <th>min</th>\n",
       "      <td>1.000000</td>\n",
       "      <td>-1.000000</td>\n",
       "      <td>-1.000000</td>\n",
       "      <td>-1.000000</td>\n",
       "      <td>-1.000000</td>\n",
       "      <td>-1.000000</td>\n",
       "      <td>-1.000000</td>\n",
       "      <td>-1.000000</td>\n",
       "      <td>-1.000000</td>\n",
       "      <td>-1.000000</td>\n",
       "      <td>...</td>\n",
       "      <td>-1.000000</td>\n",
       "      <td>-1.000000</td>\n",
       "      <td>-1.000000</td>\n",
       "      <td>-1.000000</td>\n",
       "      <td>-1.000000</td>\n",
       "      <td>-1.000000</td>\n",
       "      <td>-1.000000</td>\n",
       "      <td>-1.000000</td>\n",
       "      <td>-1.000000</td>\n",
       "      <td>-1.000000</td>\n",
       "    </tr>\n",
       "    <tr>\n",
       "      <th>25%</th>\n",
       "      <td>2764.500000</td>\n",
       "      <td>-1.000000</td>\n",
       "      <td>-1.000000</td>\n",
       "      <td>1.000000</td>\n",
       "      <td>1.000000</td>\n",
       "      <td>1.000000</td>\n",
       "      <td>-1.000000</td>\n",
       "      <td>-1.000000</td>\n",
       "      <td>-1.000000</td>\n",
       "      <td>-1.000000</td>\n",
       "      <td>...</td>\n",
       "      <td>1.000000</td>\n",
       "      <td>1.000000</td>\n",
       "      <td>-1.000000</td>\n",
       "      <td>-1.000000</td>\n",
       "      <td>0.000000</td>\n",
       "      <td>-1.000000</td>\n",
       "      <td>1.000000</td>\n",
       "      <td>0.000000</td>\n",
       "      <td>1.000000</td>\n",
       "      <td>-1.000000</td>\n",
       "    </tr>\n",
       "    <tr>\n",
       "      <th>50%</th>\n",
       "      <td>5528.000000</td>\n",
       "      <td>1.000000</td>\n",
       "      <td>-1.000000</td>\n",
       "      <td>1.000000</td>\n",
       "      <td>1.000000</td>\n",
       "      <td>1.000000</td>\n",
       "      <td>-1.000000</td>\n",
       "      <td>0.000000</td>\n",
       "      <td>1.000000</td>\n",
       "      <td>-1.000000</td>\n",
       "      <td>...</td>\n",
       "      <td>1.000000</td>\n",
       "      <td>1.000000</td>\n",
       "      <td>1.000000</td>\n",
       "      <td>1.000000</td>\n",
       "      <td>1.000000</td>\n",
       "      <td>-1.000000</td>\n",
       "      <td>1.000000</td>\n",
       "      <td>0.000000</td>\n",
       "      <td>1.000000</td>\n",
       "      <td>1.000000</td>\n",
       "    </tr>\n",
       "    <tr>\n",
       "      <th>75%</th>\n",
       "      <td>8291.500000</td>\n",
       "      <td>1.000000</td>\n",
       "      <td>-1.000000</td>\n",
       "      <td>1.000000</td>\n",
       "      <td>1.000000</td>\n",
       "      <td>1.000000</td>\n",
       "      <td>-1.000000</td>\n",
       "      <td>1.000000</td>\n",
       "      <td>1.000000</td>\n",
       "      <td>1.000000</td>\n",
       "      <td>...</td>\n",
       "      <td>1.000000</td>\n",
       "      <td>1.000000</td>\n",
       "      <td>1.000000</td>\n",
       "      <td>1.000000</td>\n",
       "      <td>1.000000</td>\n",
       "      <td>1.000000</td>\n",
       "      <td>1.000000</td>\n",
       "      <td>1.000000</td>\n",
       "      <td>1.000000</td>\n",
       "      <td>1.000000</td>\n",
       "    </tr>\n",
       "    <tr>\n",
       "      <th>max</th>\n",
       "      <td>11055.000000</td>\n",
       "      <td>1.000000</td>\n",
       "      <td>1.000000</td>\n",
       "      <td>1.000000</td>\n",
       "      <td>1.000000</td>\n",
       "      <td>1.000000</td>\n",
       "      <td>1.000000</td>\n",
       "      <td>1.000000</td>\n",
       "      <td>1.000000</td>\n",
       "      <td>1.000000</td>\n",
       "      <td>...</td>\n",
       "      <td>1.000000</td>\n",
       "      <td>1.000000</td>\n",
       "      <td>1.000000</td>\n",
       "      <td>1.000000</td>\n",
       "      <td>1.000000</td>\n",
       "      <td>1.000000</td>\n",
       "      <td>1.000000</td>\n",
       "      <td>1.000000</td>\n",
       "      <td>1.000000</td>\n",
       "      <td>1.000000</td>\n",
       "    </tr>\n",
       "  </tbody>\n",
       "</table>\n",
       "<p>8 rows × 32 columns</p>\n",
       "</div>"
      ],
      "text/plain": [
       "              index  having_IPhaving_IP_Address  URLURL_Length  \\\n",
       "count  11055.000000                11055.000000   11055.000000   \n",
       "mean    5528.000000                    0.313795      -0.633198   \n",
       "std     3191.447947                    0.949534       0.766095   \n",
       "min        1.000000                   -1.000000      -1.000000   \n",
       "25%     2764.500000                   -1.000000      -1.000000   \n",
       "50%     5528.000000                    1.000000      -1.000000   \n",
       "75%     8291.500000                    1.000000      -1.000000   \n",
       "max    11055.000000                    1.000000       1.000000   \n",
       "\n",
       "       Shortining_Service  having_At_Symbol  double_slash_redirecting  \\\n",
       "count        11055.000000      10959.000000              11055.000000   \n",
       "mean             0.738761          0.703440                  0.741474   \n",
       "std              0.673998          0.710787                  0.671011   \n",
       "min             -1.000000         -1.000000                 -1.000000   \n",
       "25%              1.000000          1.000000                  1.000000   \n",
       "50%              1.000000          1.000000                  1.000000   \n",
       "75%              1.000000          1.000000                  1.000000   \n",
       "max              1.000000          1.000000                  1.000000   \n",
       "\n",
       "       Prefix_Suffix  having_Sub_Domain  SSLfinal_State  \\\n",
       "count   11055.000000       11055.000000    11055.000000   \n",
       "mean       -0.734962           0.063953        0.250927   \n",
       "std         0.678139           0.817518        0.911892   \n",
       "min        -1.000000          -1.000000       -1.000000   \n",
       "25%        -1.000000          -1.000000       -1.000000   \n",
       "50%        -1.000000           0.000000        1.000000   \n",
       "75%        -1.000000           1.000000        1.000000   \n",
       "max         1.000000           1.000000        1.000000   \n",
       "\n",
       "       Domain_registeration_length  ...   popUpWidnow        Iframe  \\\n",
       "count                 11055.000000  ...  11055.000000  11055.000000   \n",
       "mean                     -0.336771  ...      0.613388      0.816915   \n",
       "std                       0.941629  ...      0.789818      0.576784   \n",
       "min                      -1.000000  ...     -1.000000     -1.000000   \n",
       "25%                      -1.000000  ...      1.000000      1.000000   \n",
       "50%                      -1.000000  ...      1.000000      1.000000   \n",
       "75%                       1.000000  ...      1.000000      1.000000   \n",
       "max                       1.000000  ...      1.000000      1.000000   \n",
       "\n",
       "       age_of_domain     DNSRecord   web_traffic     Page_Rank  Google_Index  \\\n",
       "count   11055.000000  11055.000000  11055.000000  11055.000000  11055.000000   \n",
       "mean        0.061239      0.377114      0.287291     -0.483673      0.721574   \n",
       "std         0.998168      0.926209      0.827733      0.875289      0.692369   \n",
       "min        -1.000000     -1.000000     -1.000000     -1.000000     -1.000000   \n",
       "25%        -1.000000     -1.000000      0.000000     -1.000000      1.000000   \n",
       "50%         1.000000      1.000000      1.000000     -1.000000      1.000000   \n",
       "75%         1.000000      1.000000      1.000000      1.000000      1.000000   \n",
       "max         1.000000      1.000000      1.000000      1.000000      1.000000   \n",
       "\n",
       "       Links_pointing_to_page  Statistical_report        Result  \n",
       "count            11055.000000        11055.000000  11055.000000  \n",
       "mean                 0.344007            0.719584      0.113885  \n",
       "std                  0.569944            0.694437      0.993539  \n",
       "min                 -1.000000           -1.000000     -1.000000  \n",
       "25%                  0.000000            1.000000     -1.000000  \n",
       "50%                  0.000000            1.000000      1.000000  \n",
       "75%                  1.000000            1.000000      1.000000  \n",
       "max                  1.000000            1.000000      1.000000  \n",
       "\n",
       "[8 rows x 32 columns]"
      ]
     },
     "execution_count": 155,
     "metadata": {},
     "output_type": "execute_result"
    }
   ],
   "source": [
    "df.describe()"
   ]
  },
  {
   "cell_type": "code",
   "execution_count": 156,
   "metadata": {
    "colab": {
     "base_uri": "https://localhost:8080/"
    },
    "id": "6CyjgQfZqKiM",
    "outputId": "d5d02a28-bc6a-4c7f-f232-667d563c5efc"
   },
   "outputs": [
    {
     "name": "stdout",
     "output_type": "stream",
     "text": [
      "Domain_registeration_length   -0.225789\n",
      "Shortining_Service            -0.067966\n",
      "Abnormal_URL                  -0.060488\n",
      "HTTPS_token                   -0.039854\n",
      "double_slash_redirecting      -0.038608\n",
      "Redirect                      -0.020113\n",
      "Iframe                        -0.003394\n",
      "Favicon                       -0.000280\n",
      "popUpWidnow                    0.000086\n",
      "index                          0.000978\n",
      "RightClick                     0.012653\n",
      "Submitting_to_email            0.018249\n",
      "Links_pointing_to_page         0.032574\n",
      "port                           0.036419\n",
      "on_mouseover                   0.041838\n",
      "having_At_Symbol               0.051330\n",
      "URLURL_Length                  0.057430\n",
      "DNSRecord                      0.075718\n",
      "Statistical_report             0.079857\n",
      "having_IPhaving_IP_Address     0.094160\n",
      "Page_Rank                      0.104645\n",
      "age_of_domain                  0.121496\n",
      "Google_Index                   0.128950\n",
      "SFH                            0.221419\n",
      "Links_in_tags                  0.248229\n",
      "Request_URL                    0.253372\n",
      "having_Sub_Domain              0.298323\n",
      "web_traffic                    0.346103\n",
      "Prefix_Suffix                  0.348606\n",
      "URL_of_Anchor                  0.692935\n",
      "SSLfinal_State                 0.714741\n",
      "Result                         1.000000\n",
      "Name: Result, dtype: float64\n"
     ]
    }
   ],
   "source": [
    "print(df.corr()['Result'].sort_values())"
   ]
  },
  {
   "cell_type": "code",
   "execution_count": 157,
   "metadata": {
    "colab": {
     "base_uri": "https://localhost:8080/"
    },
    "id": "nKLvvVTMUd_5",
    "outputId": "37351aa8-a0ba-47f1-c8d3-8e05723485be"
   },
   "outputs": [
    {
     "name": "stdout",
     "output_type": "stream",
     "text": [
      "26\n"
     ]
    }
   ],
   "source": [
    "# Remove features having correlation coeff. between +/- 0.03\n",
    "df.drop(['Favicon','Iframe','Redirect',\n",
    "                'popUpWidnow','RightClick','Submitting_to_email'],axis=1,inplace=True)\n",
    "print(len(df.columns))"
   ]
  },
  {
   "cell_type": "code",
   "execution_count": 158,
   "metadata": {
    "colab": {
     "base_uri": "https://localhost:8080/",
     "height": 351
    },
    "id": "ctzlIFtKUmmY",
    "outputId": "75040315-9cf7-4455-e8f8-b544c86c9af8"
   },
   "outputs": [
    {
     "data": {
      "image/png": "[encoded data removed]",
      "text/plain": [
       "<Figure size 432x288 with 2 Axes>"
      ]
     },
     "metadata": {},
     "output_type": "display_data"
    }
   ],
   "source": [
    "sns.heatmap(df.corr())\n",
    "plt.savefig('corr.png')"
   ]
  },
  {
   "cell_type": "code",
   "execution_count": 159,
   "metadata": {
    "colab": {
     "base_uri": "https://localhost:8080/",
     "height": 299
    },
    "id": "764r4cwUW0bN",
    "outputId": "bbc5921a-4e79-4654-ae79-461e9be902b0"
   },
   "outputs": [
    {
     "name": "stderr",
     "output_type": "stream",
     "text": [
      "<ipython-input-159-31b8a8fc1e5f>:7: SettingWithCopyWarning: \n",
      "A value is trying to be set on a copy of a slice from a DataFrame\n",
      "\n",
      "See the caveats in the documentation: https://pandas.pydata.org/pandas-docs/stable/user_guide/indexing.html#returning-a-view-versus-a-copy\n",
      "  df['having_At_Symbol'][i] = l[rand]\n"
     ]
    },
    {
     "data": {
      "text/html": [
       "<div>\n",
       "<style scoped>\n",
       "    .dataframe tbody tr th:only-of-type {\n",
       "        vertical-align: middle;\n",
       "    }\n",
       "\n",
       "    .dataframe tbody tr th {\n",
       "        vertical-align: top;\n",
       "    }\n",
       "\n",
       "    .dataframe thead th {\n",
       "        text-align: right;\n",
       "    }\n",
       "</style>\n",
       "<table border=\"1\" class=\"dataframe\">\n",
       "  <thead>\n",
       "    <tr style=\"text-align: right;\">\n",
       "      <th></th>\n",
       "      <th>index</th>\n",
       "      <th>having_IPhaving_IP_Address</th>\n",
       "      <th>URLURL_Length</th>\n",
       "      <th>Shortining_Service</th>\n",
       "      <th>having_At_Symbol</th>\n",
       "      <th>double_slash_redirecting</th>\n",
       "      <th>Prefix_Suffix</th>\n",
       "      <th>having_Sub_Domain</th>\n",
       "      <th>SSLfinal_State</th>\n",
       "      <th>Domain_registeration_length</th>\n",
       "      <th>...</th>\n",
       "      <th>Abnormal_URL</th>\n",
       "      <th>on_mouseover</th>\n",
       "      <th>age_of_domain</th>\n",
       "      <th>DNSRecord</th>\n",
       "      <th>web_traffic</th>\n",
       "      <th>Page_Rank</th>\n",
       "      <th>Google_Index</th>\n",
       "      <th>Links_pointing_to_page</th>\n",
       "      <th>Statistical_report</th>\n",
       "      <th>Result</th>\n",
       "    </tr>\n",
       "  </thead>\n",
       "  <tbody>\n",
       "    <tr>\n",
       "      <th>0</th>\n",
       "      <td>1</td>\n",
       "      <td>-1</td>\n",
       "      <td>1</td>\n",
       "      <td>1</td>\n",
       "      <td>1.0</td>\n",
       "      <td>-1</td>\n",
       "      <td>-1</td>\n",
       "      <td>-1</td>\n",
       "      <td>-1</td>\n",
       "      <td>-1</td>\n",
       "      <td>...</td>\n",
       "      <td>-1</td>\n",
       "      <td>1</td>\n",
       "      <td>-1</td>\n",
       "      <td>-1</td>\n",
       "      <td>-1</td>\n",
       "      <td>-1</td>\n",
       "      <td>1</td>\n",
       "      <td>1</td>\n",
       "      <td>-1</td>\n",
       "      <td>-1</td>\n",
       "    </tr>\n",
       "    <tr>\n",
       "      <th>1</th>\n",
       "      <td>2</td>\n",
       "      <td>1</td>\n",
       "      <td>1</td>\n",
       "      <td>1</td>\n",
       "      <td>-1.0</td>\n",
       "      <td>1</td>\n",
       "      <td>-1</td>\n",
       "      <td>0</td>\n",
       "      <td>1</td>\n",
       "      <td>-1</td>\n",
       "      <td>...</td>\n",
       "      <td>1</td>\n",
       "      <td>1</td>\n",
       "      <td>-1</td>\n",
       "      <td>-1</td>\n",
       "      <td>0</td>\n",
       "      <td>-1</td>\n",
       "      <td>1</td>\n",
       "      <td>1</td>\n",
       "      <td>1</td>\n",
       "      <td>-1</td>\n",
       "    </tr>\n",
       "    <tr>\n",
       "      <th>2</th>\n",
       "      <td>3</td>\n",
       "      <td>1</td>\n",
       "      <td>0</td>\n",
       "      <td>1</td>\n",
       "      <td>1.0</td>\n",
       "      <td>1</td>\n",
       "      <td>-1</td>\n",
       "      <td>-1</td>\n",
       "      <td>-1</td>\n",
       "      <td>-1</td>\n",
       "      <td>...</td>\n",
       "      <td>-1</td>\n",
       "      <td>1</td>\n",
       "      <td>1</td>\n",
       "      <td>-1</td>\n",
       "      <td>1</td>\n",
       "      <td>-1</td>\n",
       "      <td>1</td>\n",
       "      <td>0</td>\n",
       "      <td>-1</td>\n",
       "      <td>-1</td>\n",
       "    </tr>\n",
       "    <tr>\n",
       "      <th>3</th>\n",
       "      <td>4</td>\n",
       "      <td>1</td>\n",
       "      <td>0</td>\n",
       "      <td>1</td>\n",
       "      <td>-1.0</td>\n",
       "      <td>1</td>\n",
       "      <td>-1</td>\n",
       "      <td>-1</td>\n",
       "      <td>-1</td>\n",
       "      <td>1</td>\n",
       "      <td>...</td>\n",
       "      <td>1</td>\n",
       "      <td>1</td>\n",
       "      <td>-1</td>\n",
       "      <td>-1</td>\n",
       "      <td>1</td>\n",
       "      <td>-1</td>\n",
       "      <td>1</td>\n",
       "      <td>-1</td>\n",
       "      <td>1</td>\n",
       "      <td>-1</td>\n",
       "    </tr>\n",
       "    <tr>\n",
       "      <th>4</th>\n",
       "      <td>5</td>\n",
       "      <td>1</td>\n",
       "      <td>0</td>\n",
       "      <td>-1</td>\n",
       "      <td>1.0</td>\n",
       "      <td>1</td>\n",
       "      <td>-1</td>\n",
       "      <td>1</td>\n",
       "      <td>1</td>\n",
       "      <td>-1</td>\n",
       "      <td>...</td>\n",
       "      <td>1</td>\n",
       "      <td>-1</td>\n",
       "      <td>-1</td>\n",
       "      <td>-1</td>\n",
       "      <td>0</td>\n",
       "      <td>-1</td>\n",
       "      <td>1</td>\n",
       "      <td>1</td>\n",
       "      <td>1</td>\n",
       "      <td>1</td>\n",
       "    </tr>\n",
       "  </tbody>\n",
       "</table>\n",
       "<p>5 rows × 26 columns</p>\n",
       "</div>"
      ],
      "text/plain": [
       "   index  having_IPhaving_IP_Address  URLURL_Length  Shortining_Service  \\\n",
       "0      1                          -1              1                   1   \n",
       "1      2                           1              1                   1   \n",
       "2      3                           1              0                   1   \n",
       "3      4                           1              0                   1   \n",
       "4      5                           1              0                  -1   \n",
       "\n",
       "   having_At_Symbol  double_slash_redirecting  Prefix_Suffix  \\\n",
       "0               1.0                        -1             -1   \n",
       "1              -1.0                         1             -1   \n",
       "2               1.0                         1             -1   \n",
       "3              -1.0                         1             -1   \n",
       "4               1.0                         1             -1   \n",
       "\n",
       "   having_Sub_Domain  SSLfinal_State  Domain_registeration_length  ...  \\\n",
       "0                 -1              -1                           -1  ...   \n",
       "1                  0               1                           -1  ...   \n",
       "2                 -1              -1                           -1  ...   \n",
       "3                 -1              -1                            1  ...   \n",
       "4                  1               1                           -1  ...   \n",
       "\n",
       "   Abnormal_URL  on_mouseover  age_of_domain  DNSRecord  web_traffic  \\\n",
       "0            -1             1             -1         -1           -1   \n",
       "1             1             1             -1         -1            0   \n",
       "2            -1             1              1         -1            1   \n",
       "3             1             1             -1         -1            1   \n",
       "4             1            -1             -1         -1            0   \n",
       "\n",
       "   Page_Rank  Google_Index  Links_pointing_to_page  Statistical_report  Result  \n",
       "0         -1             1                       1                  -1      -1  \n",
       "1         -1             1                       1                   1      -1  \n",
       "2         -1             1                       0                  -1      -1  \n",
       "3         -1             1                      -1                   1      -1  \n",
       "4         -1             1                       1                   1       1  \n",
       "\n",
       "[5 rows x 26 columns]"
      ]
     },
     "execution_count": 159,
     "metadata": {},
     "output_type": "execute_result"
    }
   ],
   "source": [
    "l = [1,-1]\n",
    "length = len(df)\n",
    "# df.head()\n",
    "for i in range(length):\n",
    "  if(df['having_At_Symbol'].isnull().sum()):\n",
    "    rand = random.randint(0,1)\n",
    "    df['having_At_Symbol'][i] = l[rand]\n",
    "  \n",
    "df.head()"
   ]
  },
  {
   "cell_type": "code",
   "execution_count": 160,
   "metadata": {
    "colab": {
     "base_uri": "https://localhost:8080/",
     "height": 351
    },
    "id": "KhAqhaZUXGJE",
    "outputId": "6547ddc1-a181-42a9-dbba-ee6cdc3a8331"
   },
   "outputs": [
    {
     "data": {
      "image/png": "[encoded data removed]",
      "text/plain": [
       "<Figure size 432x288 with 2 Axes>"
      ]
     },
     "metadata": {},
     "output_type": "display_data"
    }
   ],
   "source": [
    "# print(df['having_At_Symbol'])\n",
    "sns.heatmap(df.isnull())\n",
    "plt.savefig('clean_heatmap.png')"
   ]
  },
  {
   "cell_type": "code",
   "execution_count": 161,
   "metadata": {
    "colab": {
     "base_uri": "https://localhost:8080/",
     "height": 299
    },
    "id": "Psp2dyEKalEt",
    "outputId": "c154d696-4d72-4e73-c3f0-1ae570fd48b3"
   },
   "outputs": [
    {
     "data": {
      "text/plain": [
       "<AxesSubplot:xlabel='having_At_Symbol', ylabel='count'>"
      ]
     },
     "execution_count": 161,
     "metadata": {},
     "output_type": "execute_result"
    },
    {
     "data": {
      "image/png": "[encoded data removed]",
      "text/plain": [
       "<Figure size 432x288 with 1 Axes>"
      ]
     },
     "metadata": {},
     "output_type": "display_data"
    }
   ],
   "source": [
    "sns.set_style('whitegrid')\n",
    "sns.countplot(x='having_At_Symbol',data=df)"
   ]
  },
  {
   "cell_type": "code",
   "execution_count": 162,
   "metadata": {
    "colab": {
     "base_uri": "https://localhost:8080/",
     "height": 297
    },
    "id": "RGzMVXSg0arE",
    "outputId": "f01b9958-add0-4c4d-a613-9a33de13ca6c"
   },
   "outputs": [
    {
     "data": {
      "text/plain": [
       "<AxesSubplot:xlabel='having_IPhaving_IP_Address', ylabel='count'>"
      ]
     },
     "execution_count": 162,
     "metadata": {},
     "output_type": "execute_result"
    },
    {
     "data": {
      "image/png": "[encoded data removed]",
      "text/plain": [
       "<Figure size 432x288 with 1 Axes>"
      ]
     },
     "metadata": {},
     "output_type": "display_data"
    }
   ],
   "source": [
    "sns.countplot(x='having_IPhaving_IP_Address',data=df)"
   ]
  },
  {
   "cell_type": "code",
   "execution_count": 163,
   "metadata": {
    "colab": {
     "base_uri": "https://localhost:8080/",
     "height": 297
    },
    "id": "xaT3wlpr0kJu",
    "outputId": "6768a5cc-2006-4b18-854a-cc79de91cd04"
   },
   "outputs": [
    {
     "data": {
      "text/plain": [
       "<AxesSubplot:xlabel='web_traffic', ylabel='count'>"
      ]
     },
     "execution_count": 163,
     "metadata": {},
     "output_type": "execute_result"
    },
    {
     "data": {
      "image/png": "[encoded data removed]",
      "text/plain": [
       "<Figure size 432x288 with 1 Axes>"
      ]
     },
     "metadata": {},
     "output_type": "display_data"
    }
   ],
   "source": [
    "sns.countplot(x='web_traffic', data=df)"
   ]
  },
  {
   "cell_type": "code",
   "execution_count": 164,
   "metadata": {
    "colab": {
     "base_uri": "https://localhost:8080/",
     "height": 296
    },
    "id": "72y9NWjc0rbF",
    "outputId": "5fb045b8-44a8-4f4f-de84-61d1c28c71fa"
   },
   "outputs": [
    {
     "data": {
      "text/plain": [
       "<AxesSubplot:xlabel='Result', ylabel='count'>"
      ]
     },
     "execution_count": 164,
     "metadata": {},
     "output_type": "execute_result"
    },
    {
     "data": {
      "image/png": "[encoded data removed]",
      "text/plain": [
       "<Figure size 432x288 with 1 Axes>"
      ]
     },
     "metadata": {},
     "output_type": "display_data"
    }
   ],
   "source": [
    "sns.countplot(x='Result', data=df)"
   ]
  },
  {
   "cell_type": "code",
   "execution_count": 165,
   "metadata": {
    "colab": {
     "base_uri": "https://localhost:8080/",
     "height": 297
    },
    "id": "mG4RI0lg02bh",
    "outputId": "a4c5f329-181f-410a-aac3-34f9cdec794e"
   },
   "outputs": [
    {
     "data": {
      "text/plain": [
       "<AxesSubplot:xlabel='Links_pointing_to_page', ylabel='count'>"
      ]
     },
     "execution_count": 165,
     "metadata": {},
     "output_type": "execute_result"
    },
    {
     "data": {
      "image/png": "[encoded data removed]",
      "text/plain": [
       "<Figure size 432x288 with 1 Axes>"
      ]
     },
     "metadata": {},
     "output_type": "display_data"
    }
   ],
   "source": [
    "sns.countplot(x='Links_pointing_to_page', data=df)"
   ]
  },
  {
   "cell_type": "code",
   "execution_count": 166,
   "metadata": {
    "colab": {
     "base_uri": "https://localhost:8080/",
     "height": 296
    },
    "id": "0_UoCxNc1-16",
    "outputId": "b2f0b5ea-eac9-4b86-e496-6415375849fe"
   },
   "outputs": [
    {
     "data": {
      "text/plain": [
       "<AxesSubplot:xlabel='Result', ylabel='count'>"
      ]
     },
     "execution_count": 166,
     "metadata": {},
     "output_type": "execute_result"
    },
    {
     "data": {
      "image/png": "[encoded data removed]",
      "text/plain": [
       "<Figure size 432x288 with 1 Axes>"
      ]
     },
     "metadata": {},
     "output_type": "display_data"
    }
   ],
   "source": [
    "sns.countplot(x='Result', hue='having_At_Symbol', data=df)"
   ]
  },
  {
   "cell_type": "code",
   "execution_count": 167,
   "metadata": {
    "colab": {
     "base_uri": "https://localhost:8080/",
     "height": 354
    },
    "id": "vsSm0FrT2aBU",
    "outputId": "379cb7db-2cb7-4045-8862-0d13bb26a64b"
   },
   "outputs": [
    {
     "name": "stderr",
     "output_type": "stream",
     "text": [
      "c:\\users\\om\\appdata\\local\\programs\\python\\python39\\lib\\site-packages\\seaborn\\distributions.py:2551: FutureWarning: `distplot` is a deprecated function and will be removed in a future version. Please adapt your code to use either `displot` (a figure-level function with similar flexibility) or `histplot` (an axes-level function for histograms).\n",
      "  warnings.warn(msg, FutureWarning)\n"
     ]
    },
    {
     "data": {
      "text/plain": [
       "<AxesSubplot:xlabel='Result', ylabel='Density'>"
      ]
     },
     "execution_count": 167,
     "metadata": {},
     "output_type": "execute_result"
    },
    {
     "data": {
      "image/png": "[encoded data removed]",
      "text/plain": [
       "<Figure size 432x288 with 1 Axes>"
      ]
     },
     "metadata": {},
     "output_type": "display_data"
    }
   ],
   "source": [
    "sns.distplot(df['Result'], color='darkred')"
   ]
  },
  {
   "cell_type": "code",
   "execution_count": 168,
   "metadata": {
    "colab": {
     "base_uri": "https://localhost:8080/",
     "height": 350
    },
    "id": "48mBx27U26PM",
    "outputId": "e61cf4af-8675-4e1a-c8e9-3190a6b0ca2b"
   },
   "outputs": [
    {
     "name": "stderr",
     "output_type": "stream",
     "text": [
      "c:\\users\\om\\appdata\\local\\programs\\python\\python39\\lib\\site-packages\\seaborn\\distributions.py:2551: FutureWarning: `distplot` is a deprecated function and will be removed in a future version. Please adapt your code to use either `displot` (a figure-level function with similar flexibility) or `histplot` (an axes-level function for histograms).\n",
      "  warnings.warn(msg, FutureWarning)\n"
     ]
    },
    {
     "data": {
      "text/plain": [
       "<AxesSubplot:xlabel='Links_pointing_to_page', ylabel='Density'>"
      ]
     },
     "execution_count": 168,
     "metadata": {},
     "output_type": "execute_result"
    },
    {
     "data": {
      "image/png": "[encoded data removed]",
      "text/plain": [
       "<Figure size 432x288 with 1 Axes>"
      ]
     },
     "metadata": {},
     "output_type": "display_data"
    }
   ],
   "source": [
    "sns.distplot(df['Links_pointing_to_page'])"
   ]
  },
  {
   "cell_type": "code",
   "execution_count": 169,
   "metadata": {
    "colab": {
     "base_uri": "https://localhost:8080/",
     "height": 386
    },
    "id": "atp1g3l13Nli",
    "outputId": "ca820006-3173-42a9-897e-47ddb7d278b9"
   },
   "outputs": [
    {
     "data": {
      "text/plain": [
       "<seaborn.axisgrid.FacetGrid at 0x20a8e775c40>"
      ]
     },
     "execution_count": 169,
     "metadata": {},
     "output_type": "execute_result"
    },
    {
     "data": {
      "image/png": "[encoded data removed]",
      "text/plain": [
       "<Figure size 360x360 with 1 Axes>"
      ]
     },
     "metadata": {},
     "output_type": "display_data"
    }
   ],
   "source": [
    "sns.displot(df['web_traffic'])"
   ]
  },
  {
   "cell_type": "code",
   "execution_count": 170,
   "metadata": {
    "id": "iiVPwDXK-dsk"
   },
   "outputs": [],
   "source": [
    "a=len(df[df.Result==0])\n",
    "b=len(df[df.Result==-1])\n",
    "c=len(df[df.Result==1])"
   ]
  },
  {
   "cell_type": "code",
   "execution_count": 171,
   "metadata": {
    "colab": {
     "base_uri": "https://localhost:8080/"
    },
    "id": "xEBbgd11_75t",
    "outputId": "69159ff8-f469-42dc-a8c6-385a35dd5e35"
   },
   "outputs": [
    {
     "name": "stdout",
     "output_type": "stream",
     "text": [
      "Count of Legitimate Websites =  4898\n",
      "Count of Suspicious Websites =  0\n",
      "Count of Phishy Websites =  6157\n"
     ]
    }
   ],
   "source": [
    "print(\"Count of Legitimate Websites = \", b)\n",
    "print(\"Count of Suspicious Websites = \", a)\n",
    "print(\"Count of Phishy Websites = \", c)"
   ]
  },
  {
   "cell_type": "code",
   "execution_count": 172,
   "metadata": {
    "colab": {
     "base_uri": "https://localhost:8080/"
    },
    "id": "q0BiyeFlB7Sr",
    "outputId": "625c50fc-5ae4-4dbb-ddad-94f1e2c06654"
   },
   "outputs": [
    {
     "name": "stdout",
     "output_type": "stream",
     "text": [
      "25\n"
     ]
    }
   ],
   "source": [
    "df.drop(['index'],axis=1,inplace=True)\n",
    "print(len(df.columns))"
   ]
  },
  {
   "cell_type": "code",
   "execution_count": 173,
   "metadata": {
    "colab": {
     "base_uri": "https://localhost:8080/",
     "height": 807
    },
    "id": "qWem5AdiCLSH",
    "outputId": "8d603e81-4d7c-4127-d9c5-c92c801df489"
   },
   "outputs": [
    {
     "data": {
      "text/html": [
       "<div>\n",
       "<style scoped>\n",
       "    .dataframe tbody tr th:only-of-type {\n",
       "        vertical-align: middle;\n",
       "    }\n",
       "\n",
       "    .dataframe tbody tr th {\n",
       "        vertical-align: top;\n",
       "    }\n",
       "\n",
       "    .dataframe thead th {\n",
       "        text-align: right;\n",
       "    }\n",
       "</style>\n",
       "<table border=\"1\" class=\"dataframe\">\n",
       "  <thead>\n",
       "    <tr style=\"text-align: right;\">\n",
       "      <th></th>\n",
       "      <th>having_IPhaving_IP_Address</th>\n",
       "      <th>URLURL_Length</th>\n",
       "      <th>Shortining_Service</th>\n",
       "      <th>having_At_Symbol</th>\n",
       "      <th>double_slash_redirecting</th>\n",
       "      <th>Prefix_Suffix</th>\n",
       "      <th>having_Sub_Domain</th>\n",
       "      <th>SSLfinal_State</th>\n",
       "      <th>Domain_registeration_length</th>\n",
       "      <th>port</th>\n",
       "      <th>...</th>\n",
       "      <th>Abnormal_URL</th>\n",
       "      <th>on_mouseover</th>\n",
       "      <th>age_of_domain</th>\n",
       "      <th>DNSRecord</th>\n",
       "      <th>web_traffic</th>\n",
       "      <th>Page_Rank</th>\n",
       "      <th>Google_Index</th>\n",
       "      <th>Links_pointing_to_page</th>\n",
       "      <th>Statistical_report</th>\n",
       "      <th>Result</th>\n",
       "    </tr>\n",
       "  </thead>\n",
       "  <tbody>\n",
       "    <tr>\n",
       "      <th>having_IPhaving_IP_Address</th>\n",
       "      <td>1.000000</td>\n",
       "      <td>-0.052411</td>\n",
       "      <td>0.403461</td>\n",
       "      <td>-0.019743</td>\n",
       "      <td>0.397389</td>\n",
       "      <td>-0.005257</td>\n",
       "      <td>-0.080745</td>\n",
       "      <td>0.071414</td>\n",
       "      <td>-0.022739</td>\n",
       "      <td>0.060979</td>\n",
       "      <td>...</td>\n",
       "      <td>0.336549</td>\n",
       "      <td>0.084059</td>\n",
       "      <td>-0.010446</td>\n",
       "      <td>-0.050733</td>\n",
       "      <td>0.002922</td>\n",
       "      <td>-0.091774</td>\n",
       "      <td>0.029153</td>\n",
       "      <td>-0.339065</td>\n",
       "      <td>-0.019103</td>\n",
       "      <td>0.094160</td>\n",
       "    </tr>\n",
       "    <tr>\n",
       "      <th>URLURL_Length</th>\n",
       "      <td>-0.052411</td>\n",
       "      <td>1.000000</td>\n",
       "      <td>-0.097881</td>\n",
       "      <td>-0.011944</td>\n",
       "      <td>-0.081247</td>\n",
       "      <td>0.055247</td>\n",
       "      <td>0.003997</td>\n",
       "      <td>0.048754</td>\n",
       "      <td>-0.221892</td>\n",
       "      <td>0.000323</td>\n",
       "      <td>...</td>\n",
       "      <td>-0.106761</td>\n",
       "      <td>-0.045103</td>\n",
       "      <td>0.179426</td>\n",
       "      <td>-0.040823</td>\n",
       "      <td>0.008993</td>\n",
       "      <td>0.183518</td>\n",
       "      <td>0.002902</td>\n",
       "      <td>-0.022987</td>\n",
       "      <td>-0.067153</td>\n",
       "      <td>0.057430</td>\n",
       "    </tr>\n",
       "    <tr>\n",
       "      <th>Shortining_Service</th>\n",
       "      <td>0.403461</td>\n",
       "      <td>-0.097881</td>\n",
       "      <td>1.000000</td>\n",
       "      <td>-0.004005</td>\n",
       "      <td>0.842796</td>\n",
       "      <td>-0.080471</td>\n",
       "      <td>-0.041916</td>\n",
       "      <td>-0.061426</td>\n",
       "      <td>0.060923</td>\n",
       "      <td>0.002201</td>\n",
       "      <td>...</td>\n",
       "      <td>0.739290</td>\n",
       "      <td>0.062383</td>\n",
       "      <td>-0.052596</td>\n",
       "      <td>0.436064</td>\n",
       "      <td>-0.047074</td>\n",
       "      <td>0.014591</td>\n",
       "      <td>0.155844</td>\n",
       "      <td>-0.198410</td>\n",
       "      <td>0.085461</td>\n",
       "      <td>-0.067966</td>\n",
       "    </tr>\n",
       "    <tr>\n",
       "      <th>having_At_Symbol</th>\n",
       "      <td>-0.019743</td>\n",
       "      <td>-0.011944</td>\n",
       "      <td>-0.004005</td>\n",
       "      <td>1.000000</td>\n",
       "      <td>-0.002867</td>\n",
       "      <td>-0.020060</td>\n",
       "      <td>0.005890</td>\n",
       "      <td>-0.005238</td>\n",
       "      <td>-0.009507</td>\n",
       "      <td>0.043311</td>\n",
       "      <td>...</td>\n",
       "      <td>0.020171</td>\n",
       "      <td>0.024596</td>\n",
       "      <td>0.026367</td>\n",
       "      <td>0.029677</td>\n",
       "      <td>-0.010939</td>\n",
       "      <td>0.008988</td>\n",
       "      <td>0.002261</td>\n",
       "      <td>-0.010325</td>\n",
       "      <td>-0.001521</td>\n",
       "      <td>-0.009411</td>\n",
       "    </tr>\n",
       "    <tr>\n",
       "      <th>double_slash_redirecting</th>\n",
       "      <td>0.397389</td>\n",
       "      <td>-0.081247</td>\n",
       "      <td>0.842796</td>\n",
       "      <td>-0.002867</td>\n",
       "      <td>1.000000</td>\n",
       "      <td>-0.085590</td>\n",
       "      <td>-0.043079</td>\n",
       "      <td>-0.036200</td>\n",
       "      <td>0.047464</td>\n",
       "      <td>0.025060</td>\n",
       "      <td>...</td>\n",
       "      <td>0.723724</td>\n",
       "      <td>0.086635</td>\n",
       "      <td>-0.050107</td>\n",
       "      <td>0.431409</td>\n",
       "      <td>-0.062369</td>\n",
       "      <td>-0.003132</td>\n",
       "      <td>0.178415</td>\n",
       "      <td>-0.194165</td>\n",
       "      <td>0.070390</td>\n",
       "      <td>-0.038608</td>\n",
       "    </tr>\n",
       "    <tr>\n",
       "      <th>Prefix_Suffix</th>\n",
       "      <td>-0.005257</td>\n",
       "      <td>0.055247</td>\n",
       "      <td>-0.080471</td>\n",
       "      <td>-0.020060</td>\n",
       "      <td>-0.085590</td>\n",
       "      <td>1.000000</td>\n",
       "      <td>0.087891</td>\n",
       "      <td>0.261391</td>\n",
       "      <td>-0.096799</td>\n",
       "      <td>-0.022546</td>\n",
       "      <td>...</td>\n",
       "      <td>-0.077620</td>\n",
       "      <td>0.012578</td>\n",
       "      <td>0.074116</td>\n",
       "      <td>-0.016556</td>\n",
       "      <td>0.110598</td>\n",
       "      <td>-0.006834</td>\n",
       "      <td>0.067781</td>\n",
       "      <td>0.067423</td>\n",
       "      <td>-0.002763</td>\n",
       "      <td>0.348606</td>\n",
       "    </tr>\n",
       "    <tr>\n",
       "      <th>having_Sub_Domain</th>\n",
       "      <td>-0.080745</td>\n",
       "      <td>0.003997</td>\n",
       "      <td>-0.041916</td>\n",
       "      <td>0.005890</td>\n",
       "      <td>-0.043079</td>\n",
       "      <td>0.087891</td>\n",
       "      <td>1.000000</td>\n",
       "      <td>0.267649</td>\n",
       "      <td>-0.082839</td>\n",
       "      <td>0.004863</td>\n",
       "      <td>...</td>\n",
       "      <td>-0.034908</td>\n",
       "      <td>-0.018082</td>\n",
       "      <td>0.119254</td>\n",
       "      <td>0.125493</td>\n",
       "      <td>-0.005764</td>\n",
       "      <td>0.120730</td>\n",
       "      <td>0.057673</td>\n",
       "      <td>-0.010526</td>\n",
       "      <td>0.081627</td>\n",
       "      <td>0.298323</td>\n",
       "    </tr>\n",
       "    <tr>\n",
       "      <th>SSLfinal_State</th>\n",
       "      <td>0.071414</td>\n",
       "      <td>0.048754</td>\n",
       "      <td>-0.061426</td>\n",
       "      <td>-0.005238</td>\n",
       "      <td>-0.036200</td>\n",
       "      <td>0.261391</td>\n",
       "      <td>0.267649</td>\n",
       "      <td>1.000000</td>\n",
       "      <td>-0.193622</td>\n",
       "      <td>0.027473</td>\n",
       "      <td>...</td>\n",
       "      <td>-0.046245</td>\n",
       "      <td>0.023586</td>\n",
       "      <td>0.162809</td>\n",
       "      <td>0.050972</td>\n",
       "      <td>0.258768</td>\n",
       "      <td>0.074545</td>\n",
       "      <td>0.096051</td>\n",
       "      <td>-0.011710</td>\n",
       "      <td>0.063411</td>\n",
       "      <td>0.714741</td>\n",
       "    </tr>\n",
       "    <tr>\n",
       "      <th>Domain_registeration_length</th>\n",
       "      <td>-0.022739</td>\n",
       "      <td>-0.221892</td>\n",
       "      <td>0.060923</td>\n",
       "      <td>-0.009507</td>\n",
       "      <td>0.047464</td>\n",
       "      <td>-0.096799</td>\n",
       "      <td>-0.082839</td>\n",
       "      <td>-0.193622</td>\n",
       "      <td>1.000000</td>\n",
       "      <td>0.022478</td>\n",
       "      <td>...</td>\n",
       "      <td>0.058109</td>\n",
       "      <td>0.023784</td>\n",
       "      <td>-0.062851</td>\n",
       "      <td>-0.010477</td>\n",
       "      <td>-0.134454</td>\n",
       "      <td>-0.059898</td>\n",
       "      <td>-0.039766</td>\n",
       "      <td>0.122672</td>\n",
       "      <td>-0.002212</td>\n",
       "      <td>-0.225789</td>\n",
       "    </tr>\n",
       "    <tr>\n",
       "      <th>port</th>\n",
       "      <td>0.060979</td>\n",
       "      <td>0.000323</td>\n",
       "      <td>0.002201</td>\n",
       "      <td>0.043311</td>\n",
       "      <td>0.025060</td>\n",
       "      <td>-0.022546</td>\n",
       "      <td>0.004863</td>\n",
       "      <td>0.027473</td>\n",
       "      <td>0.022478</td>\n",
       "      <td>1.000000</td>\n",
       "      <td>...</td>\n",
       "      <td>0.054126</td>\n",
       "      <td>0.623298</td>\n",
       "      <td>0.008459</td>\n",
       "      <td>0.054849</td>\n",
       "      <td>-0.028543</td>\n",
       "      <td>0.017954</td>\n",
       "      <td>-0.005413</td>\n",
       "      <td>-0.139104</td>\n",
       "      <td>0.343987</td>\n",
       "      <td>0.036419</td>\n",
       "    </tr>\n",
       "    <tr>\n",
       "      <th>HTTPS_token</th>\n",
       "      <td>0.363534</td>\n",
       "      <td>-0.089383</td>\n",
       "      <td>0.757838</td>\n",
       "      <td>-0.003451</td>\n",
       "      <td>0.760799</td>\n",
       "      <td>-0.070153</td>\n",
       "      <td>-0.037239</td>\n",
       "      <td>-0.029941</td>\n",
       "      <td>0.059161</td>\n",
       "      <td>0.004999</td>\n",
       "      <td>...</td>\n",
       "      <td>0.716287</td>\n",
       "      <td>0.110113</td>\n",
       "      <td>-0.049632</td>\n",
       "      <td>0.395387</td>\n",
       "      <td>-0.039708</td>\n",
       "      <td>0.021104</td>\n",
       "      <td>0.115450</td>\n",
       "      <td>-0.128724</td>\n",
       "      <td>0.096187</td>\n",
       "      <td>-0.039854</td>\n",
       "    </tr>\n",
       "    <tr>\n",
       "      <th>Request_URL</th>\n",
       "      <td>0.029773</td>\n",
       "      <td>0.246348</td>\n",
       "      <td>-0.037235</td>\n",
       "      <td>0.008129</td>\n",
       "      <td>-0.026368</td>\n",
       "      <td>0.098675</td>\n",
       "      <td>0.104857</td>\n",
       "      <td>0.193054</td>\n",
       "      <td>-0.609970</td>\n",
       "      <td>0.027561</td>\n",
       "      <td>...</td>\n",
       "      <td>-0.036034</td>\n",
       "      <td>0.008144</td>\n",
       "      <td>0.090455</td>\n",
       "      <td>0.015933</td>\n",
       "      <td>0.161166</td>\n",
       "      <td>0.055734</td>\n",
       "      <td>0.046409</td>\n",
       "      <td>-0.067109</td>\n",
       "      <td>0.035412</td>\n",
       "      <td>0.253372</td>\n",
       "    </tr>\n",
       "    <tr>\n",
       "      <th>URL_of_Anchor</th>\n",
       "      <td>0.099847</td>\n",
       "      <td>-0.023396</td>\n",
       "      <td>0.000561</td>\n",
       "      <td>-0.009310</td>\n",
       "      <td>-0.005036</td>\n",
       "      <td>0.348871</td>\n",
       "      <td>0.229491</td>\n",
       "      <td>0.535786</td>\n",
       "      <td>-0.160257</td>\n",
       "      <td>0.039891</td>\n",
       "      <td>...</td>\n",
       "      <td>-0.010585</td>\n",
       "      <td>0.067742</td>\n",
       "      <td>0.075508</td>\n",
       "      <td>0.093288</td>\n",
       "      <td>0.326293</td>\n",
       "      <td>0.099261</td>\n",
       "      <td>0.038816</td>\n",
       "      <td>0.018651</td>\n",
       "      <td>0.077377</td>\n",
       "      <td>0.692935</td>\n",
       "    </tr>\n",
       "    <tr>\n",
       "      <th>Links_in_tags</th>\n",
       "      <td>0.006212</td>\n",
       "      <td>0.052869</td>\n",
       "      <td>-0.133379</td>\n",
       "      <td>0.007171</td>\n",
       "      <td>-0.125583</td>\n",
       "      <td>0.100254</td>\n",
       "      <td>0.093646</td>\n",
       "      <td>0.176825</td>\n",
       "      <td>-0.101084</td>\n",
       "      <td>-0.066502</td>\n",
       "      <td>...</td>\n",
       "      <td>-0.116065</td>\n",
       "      <td>-0.077670</td>\n",
       "      <td>0.078057</td>\n",
       "      <td>-0.038545</td>\n",
       "      <td>0.064548</td>\n",
       "      <td>-0.006450</td>\n",
       "      <td>0.045557</td>\n",
       "      <td>0.013561</td>\n",
       "      <td>-0.087343</td>\n",
       "      <td>0.248229</td>\n",
       "    </tr>\n",
       "    <tr>\n",
       "      <th>SFH</th>\n",
       "      <td>-0.010962</td>\n",
       "      <td>0.414196</td>\n",
       "      <td>-0.022723</td>\n",
       "      <td>-0.010600</td>\n",
       "      <td>-0.041672</td>\n",
       "      <td>0.001326</td>\n",
       "      <td>0.096089</td>\n",
       "      <td>0.171402</td>\n",
       "      <td>-0.136422</td>\n",
       "      <td>0.006672</td>\n",
       "      <td>...</td>\n",
       "      <td>-0.030752</td>\n",
       "      <td>0.007579</td>\n",
       "      <td>-0.015840</td>\n",
       "      <td>0.034440</td>\n",
       "      <td>0.052706</td>\n",
       "      <td>0.001979</td>\n",
       "      <td>0.027588</td>\n",
       "      <td>-0.009068</td>\n",
       "      <td>-0.005289</td>\n",
       "      <td>0.221419</td>\n",
       "    </tr>\n",
       "    <tr>\n",
       "      <th>Abnormal_URL</th>\n",
       "      <td>0.336549</td>\n",
       "      <td>-0.106761</td>\n",
       "      <td>0.739290</td>\n",
       "      <td>0.020171</td>\n",
       "      <td>0.723724</td>\n",
       "      <td>-0.077620</td>\n",
       "      <td>-0.034908</td>\n",
       "      <td>-0.046245</td>\n",
       "      <td>0.058109</td>\n",
       "      <td>0.054126</td>\n",
       "      <td>...</td>\n",
       "      <td>1.000000</td>\n",
       "      <td>0.117638</td>\n",
       "      <td>-0.032533</td>\n",
       "      <td>0.366833</td>\n",
       "      <td>-0.052416</td>\n",
       "      <td>0.007318</td>\n",
       "      <td>0.124751</td>\n",
       "      <td>-0.161027</td>\n",
       "      <td>0.186399</td>\n",
       "      <td>-0.060488</td>\n",
       "    </tr>\n",
       "    <tr>\n",
       "      <th>on_mouseover</th>\n",
       "      <td>0.084059</td>\n",
       "      <td>-0.045103</td>\n",
       "      <td>0.062383</td>\n",
       "      <td>0.024596</td>\n",
       "      <td>0.086635</td>\n",
       "      <td>0.012578</td>\n",
       "      <td>-0.018082</td>\n",
       "      <td>0.023586</td>\n",
       "      <td>0.023784</td>\n",
       "      <td>0.623298</td>\n",
       "      <td>...</td>\n",
       "      <td>0.117638</td>\n",
       "      <td>1.000000</td>\n",
       "      <td>0.013306</td>\n",
       "      <td>0.087161</td>\n",
       "      <td>-0.036531</td>\n",
       "      <td>0.015634</td>\n",
       "      <td>-0.006510</td>\n",
       "      <td>-0.038551</td>\n",
       "      <td>0.277347</td>\n",
       "      <td>0.041838</td>\n",
       "    </tr>\n",
       "    <tr>\n",
       "      <th>age_of_domain</th>\n",
       "      <td>-0.010446</td>\n",
       "      <td>0.179426</td>\n",
       "      <td>-0.052596</td>\n",
       "      <td>0.026367</td>\n",
       "      <td>-0.050107</td>\n",
       "      <td>0.074116</td>\n",
       "      <td>0.119254</td>\n",
       "      <td>0.162809</td>\n",
       "      <td>-0.062851</td>\n",
       "      <td>0.008459</td>\n",
       "      <td>...</td>\n",
       "      <td>-0.032533</td>\n",
       "      <td>0.013306</td>\n",
       "      <td>1.000000</td>\n",
       "      <td>-0.034082</td>\n",
       "      <td>0.089949</td>\n",
       "      <td>-0.147194</td>\n",
       "      <td>-0.028471</td>\n",
       "      <td>0.040407</td>\n",
       "      <td>0.009115</td>\n",
       "      <td>0.121496</td>\n",
       "    </tr>\n",
       "    <tr>\n",
       "      <th>DNSRecord</th>\n",
       "      <td>-0.050733</td>\n",
       "      <td>-0.040823</td>\n",
       "      <td>0.436064</td>\n",
       "      <td>0.029677</td>\n",
       "      <td>0.431409</td>\n",
       "      <td>-0.016556</td>\n",
       "      <td>0.125493</td>\n",
       "      <td>0.050972</td>\n",
       "      <td>-0.010477</td>\n",
       "      <td>0.054849</td>\n",
       "      <td>...</td>\n",
       "      <td>0.366833</td>\n",
       "      <td>0.087161</td>\n",
       "      <td>-0.034082</td>\n",
       "      <td>1.000000</td>\n",
       "      <td>0.048650</td>\n",
       "      <td>0.137860</td>\n",
       "      <td>0.137509</td>\n",
       "      <td>-0.318266</td>\n",
       "      <td>0.136860</td>\n",
       "      <td>0.075718</td>\n",
       "    </tr>\n",
       "    <tr>\n",
       "      <th>web_traffic</th>\n",
       "      <td>0.002922</td>\n",
       "      <td>0.008993</td>\n",
       "      <td>-0.047074</td>\n",
       "      <td>-0.010939</td>\n",
       "      <td>-0.062369</td>\n",
       "      <td>0.110598</td>\n",
       "      <td>-0.005764</td>\n",
       "      <td>0.258768</td>\n",
       "      <td>-0.134454</td>\n",
       "      <td>-0.028543</td>\n",
       "      <td>...</td>\n",
       "      <td>-0.052416</td>\n",
       "      <td>-0.036531</td>\n",
       "      <td>0.089949</td>\n",
       "      <td>0.048650</td>\n",
       "      <td>1.000000</td>\n",
       "      <td>0.030984</td>\n",
       "      <td>-0.012584</td>\n",
       "      <td>-0.019860</td>\n",
       "      <td>0.009223</td>\n",
       "      <td>0.346103</td>\n",
       "    </tr>\n",
       "    <tr>\n",
       "      <th>Page_Rank</th>\n",
       "      <td>-0.091774</td>\n",
       "      <td>0.183518</td>\n",
       "      <td>0.014591</td>\n",
       "      <td>0.008988</td>\n",
       "      <td>-0.003132</td>\n",
       "      <td>-0.006834</td>\n",
       "      <td>0.120730</td>\n",
       "      <td>0.074545</td>\n",
       "      <td>-0.059898</td>\n",
       "      <td>0.017954</td>\n",
       "      <td>...</td>\n",
       "      <td>0.007318</td>\n",
       "      <td>0.015634</td>\n",
       "      <td>-0.147194</td>\n",
       "      <td>0.137860</td>\n",
       "      <td>0.030984</td>\n",
       "      <td>1.000000</td>\n",
       "      <td>0.032431</td>\n",
       "      <td>-0.028216</td>\n",
       "      <td>0.031049</td>\n",
       "      <td>0.104645</td>\n",
       "    </tr>\n",
       "    <tr>\n",
       "      <th>Google_Index</th>\n",
       "      <td>0.029153</td>\n",
       "      <td>0.002902</td>\n",
       "      <td>0.155844</td>\n",
       "      <td>0.002261</td>\n",
       "      <td>0.178415</td>\n",
       "      <td>0.067781</td>\n",
       "      <td>0.057673</td>\n",
       "      <td>0.096051</td>\n",
       "      <td>-0.039766</td>\n",
       "      <td>-0.005413</td>\n",
       "      <td>...</td>\n",
       "      <td>0.124751</td>\n",
       "      <td>-0.006510</td>\n",
       "      <td>-0.028471</td>\n",
       "      <td>0.137509</td>\n",
       "      <td>-0.012584</td>\n",
       "      <td>0.032431</td>\n",
       "      <td>1.000000</td>\n",
       "      <td>-0.038777</td>\n",
       "      <td>-0.005103</td>\n",
       "      <td>0.128950</td>\n",
       "    </tr>\n",
       "    <tr>\n",
       "      <th>Links_pointing_to_page</th>\n",
       "      <td>-0.339065</td>\n",
       "      <td>-0.022987</td>\n",
       "      <td>-0.198410</td>\n",
       "      <td>-0.010325</td>\n",
       "      <td>-0.194165</td>\n",
       "      <td>0.067423</td>\n",
       "      <td>-0.010526</td>\n",
       "      <td>-0.011710</td>\n",
       "      <td>0.122672</td>\n",
       "      <td>-0.139104</td>\n",
       "      <td>...</td>\n",
       "      <td>-0.161027</td>\n",
       "      <td>-0.038551</td>\n",
       "      <td>0.040407</td>\n",
       "      <td>-0.318266</td>\n",
       "      <td>-0.019860</td>\n",
       "      <td>-0.028216</td>\n",
       "      <td>-0.038777</td>\n",
       "      <td>1.000000</td>\n",
       "      <td>-0.016817</td>\n",
       "      <td>0.032574</td>\n",
       "    </tr>\n",
       "    <tr>\n",
       "      <th>Statistical_report</th>\n",
       "      <td>-0.019103</td>\n",
       "      <td>-0.067153</td>\n",
       "      <td>0.085461</td>\n",
       "      <td>-0.001521</td>\n",
       "      <td>0.070390</td>\n",
       "      <td>-0.002763</td>\n",
       "      <td>0.081627</td>\n",
       "      <td>0.063411</td>\n",
       "      <td>-0.002212</td>\n",
       "      <td>0.343987</td>\n",
       "      <td>...</td>\n",
       "      <td>0.186399</td>\n",
       "      <td>0.277347</td>\n",
       "      <td>0.009115</td>\n",
       "      <td>0.136860</td>\n",
       "      <td>0.009223</td>\n",
       "      <td>0.031049</td>\n",
       "      <td>-0.005103</td>\n",
       "      <td>-0.016817</td>\n",
       "      <td>1.000000</td>\n",
       "      <td>0.079857</td>\n",
       "    </tr>\n",
       "    <tr>\n",
       "      <th>Result</th>\n",
       "      <td>0.094160</td>\n",
       "      <td>0.057430</td>\n",
       "      <td>-0.067966</td>\n",
       "      <td>-0.009411</td>\n",
       "      <td>-0.038608</td>\n",
       "      <td>0.348606</td>\n",
       "      <td>0.298323</td>\n",
       "      <td>0.714741</td>\n",
       "      <td>-0.225789</td>\n",
       "      <td>0.036419</td>\n",
       "      <td>...</td>\n",
       "      <td>-0.060488</td>\n",
       "      <td>0.041838</td>\n",
       "      <td>0.121496</td>\n",
       "      <td>0.075718</td>\n",
       "      <td>0.346103</td>\n",
       "      <td>0.104645</td>\n",
       "      <td>0.128950</td>\n",
       "      <td>0.032574</td>\n",
       "      <td>0.079857</td>\n",
       "      <td>1.000000</td>\n",
       "    </tr>\n",
       "  </tbody>\n",
       "</table>\n",
       "<p>25 rows × 25 columns</p>\n",
       "</div>"
      ],
      "text/plain": [
       "                             having_IPhaving_IP_Address  URLURL_Length  \\\n",
       "having_IPhaving_IP_Address                     1.000000      -0.052411   \n",
       "URLURL_Length                                 -0.052411       1.000000   \n",
       "Shortining_Service                             0.403461      -0.097881   \n",
       "having_At_Symbol                              -0.019743      -0.011944   \n",
       "double_slash_redirecting                       0.397389      -0.081247   \n",
       "Prefix_Suffix                                 -0.005257       0.055247   \n",
       "having_Sub_Domain                             -0.080745       0.003997   \n",
       "SSLfinal_State                                 0.071414       0.048754   \n",
       "Domain_registeration_length                   -0.022739      -0.221892   \n",
       "port                                           0.060979       0.000323   \n",
       "HTTPS_token                                    0.363534      -0.089383   \n",
       "Request_URL                                    0.029773       0.246348   \n",
       "URL_of_Anchor                                  0.099847      -0.023396   \n",
       "Links_in_tags                                  0.006212       0.052869   \n",
       "SFH                                           -0.010962       0.414196   \n",
       "Abnormal_URL                                   0.336549      -0.106761   \n",
       "on_mouseover                                   0.084059      -0.045103   \n",
       "age_of_domain                                 -0.010446       0.179426   \n",
       "DNSRecord                                     -0.050733      -0.040823   \n",
       "web_traffic                                    0.002922       0.008993   \n",
       "Page_Rank                                     -0.091774       0.183518   \n",
       "Google_Index                                   0.029153       0.002902   \n",
       "Links_pointing_to_page                        -0.339065      -0.022987   \n",
       "Statistical_report                            -0.019103      -0.067153   \n",
       "Result                                         0.094160       0.057430   \n",
       "\n",
       "                             Shortining_Service  having_At_Symbol  \\\n",
       "having_IPhaving_IP_Address             0.403461         -0.019743   \n",
       "URLURL_Length                         -0.097881         -0.011944   \n",
       "Shortining_Service                     1.000000         -0.004005   \n",
       "having_At_Symbol                      -0.004005          1.000000   \n",
       "double_slash_redirecting               0.842796         -0.002867   \n",
       "Prefix_Suffix                         -0.080471         -0.020060   \n",
       "having_Sub_Domain                     -0.041916          0.005890   \n",
       "SSLfinal_State                        -0.061426         -0.005238   \n",
       "Domain_registeration_length            0.060923         -0.009507   \n",
       "port                                   0.002201          0.043311   \n",
       "HTTPS_token                            0.757838         -0.003451   \n",
       "Request_URL                           -0.037235          0.008129   \n",
       "URL_of_Anchor                          0.000561         -0.009310   \n",
       "Links_in_tags                         -0.133379          0.007171   \n",
       "SFH                                   -0.022723         -0.010600   \n",
       "Abnormal_URL                           0.739290          0.020171   \n",
       "on_mouseover                           0.062383          0.024596   \n",
       "age_of_domain                         -0.052596          0.026367   \n",
       "DNSRecord                              0.436064          0.029677   \n",
       "web_traffic                           -0.047074         -0.010939   \n",
       "Page_Rank                              0.014591          0.008988   \n",
       "Google_Index                           0.155844          0.002261   \n",
       "Links_pointing_to_page                -0.198410         -0.010325   \n",
       "Statistical_report                     0.085461         -0.001521   \n",
       "Result                                -0.067966         -0.009411   \n",
       "\n",
       "                             double_slash_redirecting  Prefix_Suffix  \\\n",
       "having_IPhaving_IP_Address                   0.397389      -0.005257   \n",
       "URLURL_Length                               -0.081247       0.055247   \n",
       "Shortining_Service                           0.842796      -0.080471   \n",
       "having_At_Symbol                            -0.002867      -0.020060   \n",
       "double_slash_redirecting                     1.000000      -0.085590   \n",
       "Prefix_Suffix                               -0.085590       1.000000   \n",
       "having_Sub_Domain                           -0.043079       0.087891   \n",
       "SSLfinal_State                              -0.036200       0.261391   \n",
       "Domain_registeration_length                  0.047464      -0.096799   \n",
       "port                                         0.025060      -0.022546   \n",
       "HTTPS_token                                  0.760799      -0.070153   \n",
       "Request_URL                                 -0.026368       0.098675   \n",
       "URL_of_Anchor                               -0.005036       0.348871   \n",
       "Links_in_tags                               -0.125583       0.100254   \n",
       "SFH                                         -0.041672       0.001326   \n",
       "Abnormal_URL                                 0.723724      -0.077620   \n",
       "on_mouseover                                 0.086635       0.012578   \n",
       "age_of_domain                               -0.050107       0.074116   \n",
       "DNSRecord                                    0.431409      -0.016556   \n",
       "web_traffic                                 -0.062369       0.110598   \n",
       "Page_Rank                                   -0.003132      -0.006834   \n",
       "Google_Index                                 0.178415       0.067781   \n",
       "Links_pointing_to_page                      -0.194165       0.067423   \n",
       "Statistical_report                           0.070390      -0.002763   \n",
       "Result                                      -0.038608       0.348606   \n",
       "\n",
       "                             having_Sub_Domain  SSLfinal_State  \\\n",
       "having_IPhaving_IP_Address           -0.080745        0.071414   \n",
       "URLURL_Length                         0.003997        0.048754   \n",
       "Shortining_Service                   -0.041916       -0.061426   \n",
       "having_At_Symbol                      0.005890       -0.005238   \n",
       "double_slash_redirecting             -0.043079       -0.036200   \n",
       "Prefix_Suffix                         0.087891        0.261391   \n",
       "having_Sub_Domain                     1.000000        0.267649   \n",
       "SSLfinal_State                        0.267649        1.000000   \n",
       "Domain_registeration_length          -0.082839       -0.193622   \n",
       "port                                  0.004863        0.027473   \n",
       "HTTPS_token                          -0.037239       -0.029941   \n",
       "Request_URL                           0.104857        0.193054   \n",
       "URL_of_Anchor                         0.229491        0.535786   \n",
       "Links_in_tags                         0.093646        0.176825   \n",
       "SFH                                   0.096089        0.171402   \n",
       "Abnormal_URL                         -0.034908       -0.046245   \n",
       "on_mouseover                         -0.018082        0.023586   \n",
       "age_of_domain                         0.119254        0.162809   \n",
       "DNSRecord                             0.125493        0.050972   \n",
       "web_traffic                          -0.005764        0.258768   \n",
       "Page_Rank                             0.120730        0.074545   \n",
       "Google_Index                          0.057673        0.096051   \n",
       "Links_pointing_to_page               -0.010526       -0.011710   \n",
       "Statistical_report                    0.081627        0.063411   \n",
       "Result                                0.298323        0.714741   \n",
       "\n",
       "                             Domain_registeration_length      port  ...  \\\n",
       "having_IPhaving_IP_Address                     -0.022739  0.060979  ...   \n",
       "URLURL_Length                                  -0.221892  0.000323  ...   \n",
       "Shortining_Service                              0.060923  0.002201  ...   \n",
       "having_At_Symbol                               -0.009507  0.043311  ...   \n",
       "double_slash_redirecting                        0.047464  0.025060  ...   \n",
       "Prefix_Suffix                                  -0.096799 -0.022546  ...   \n",
       "having_Sub_Domain                              -0.082839  0.004863  ...   \n",
       "SSLfinal_State                                 -0.193622  0.027473  ...   \n",
       "Domain_registeration_length                     1.000000  0.022478  ...   \n",
       "port                                            0.022478  1.000000  ...   \n",
       "HTTPS_token                                     0.059161  0.004999  ...   \n",
       "Request_URL                                    -0.609970  0.027561  ...   \n",
       "URL_of_Anchor                                  -0.160257  0.039891  ...   \n",
       "Links_in_tags                                  -0.101084 -0.066502  ...   \n",
       "SFH                                            -0.136422  0.006672  ...   \n",
       "Abnormal_URL                                    0.058109  0.054126  ...   \n",
       "on_mouseover                                    0.023784  0.623298  ...   \n",
       "age_of_domain                                  -0.062851  0.008459  ...   \n",
       "DNSRecord                                      -0.010477  0.054849  ...   \n",
       "web_traffic                                    -0.134454 -0.028543  ...   \n",
       "Page_Rank                                      -0.059898  0.017954  ...   \n",
       "Google_Index                                   -0.039766 -0.005413  ...   \n",
       "Links_pointing_to_page                          0.122672 -0.139104  ...   \n",
       "Statistical_report                             -0.002212  0.343987  ...   \n",
       "Result                                         -0.225789  0.036419  ...   \n",
       "\n",
       "                             Abnormal_URL  on_mouseover  age_of_domain  \\\n",
       "having_IPhaving_IP_Address       0.336549      0.084059      -0.010446   \n",
       "URLURL_Length                   -0.106761     -0.045103       0.179426   \n",
       "Shortining_Service               0.739290      0.062383      -0.052596   \n",
       "having_At_Symbol                 0.020171      0.024596       0.026367   \n",
       "double_slash_redirecting         0.723724      0.086635      -0.050107   \n",
       "Prefix_Suffix                   -0.077620      0.012578       0.074116   \n",
       "having_Sub_Domain               -0.034908     -0.018082       0.119254   \n",
       "SSLfinal_State                  -0.046245      0.023586       0.162809   \n",
       "Domain_registeration_length      0.058109      0.023784      -0.062851   \n",
       "port                             0.054126      0.623298       0.008459   \n",
       "HTTPS_token                      0.716287      0.110113      -0.049632   \n",
       "Request_URL                     -0.036034      0.008144       0.090455   \n",
       "URL_of_Anchor                   -0.010585      0.067742       0.075508   \n",
       "Links_in_tags                   -0.116065     -0.077670       0.078057   \n",
       "SFH                             -0.030752      0.007579      -0.015840   \n",
       "Abnormal_URL                     1.000000      0.117638      -0.032533   \n",
       "on_mouseover                     0.117638      1.000000       0.013306   \n",
       "age_of_domain                   -0.032533      0.013306       1.000000   \n",
       "DNSRecord                        0.366833      0.087161      -0.034082   \n",
       "web_traffic                     -0.052416     -0.036531       0.089949   \n",
       "Page_Rank                        0.007318      0.015634      -0.147194   \n",
       "Google_Index                     0.124751     -0.006510      -0.028471   \n",
       "Links_pointing_to_page          -0.161027     -0.038551       0.040407   \n",
       "Statistical_report               0.186399      0.277347       0.009115   \n",
       "Result                          -0.060488      0.041838       0.121496   \n",
       "\n",
       "                             DNSRecord  web_traffic  Page_Rank  Google_Index  \\\n",
       "having_IPhaving_IP_Address   -0.050733     0.002922  -0.091774      0.029153   \n",
       "URLURL_Length                -0.040823     0.008993   0.183518      0.002902   \n",
       "Shortining_Service            0.436064    -0.047074   0.014591      0.155844   \n",
       "having_At_Symbol              0.029677    -0.010939   0.008988      0.002261   \n",
       "double_slash_redirecting      0.431409    -0.062369  -0.003132      0.178415   \n",
       "Prefix_Suffix                -0.016556     0.110598  -0.006834      0.067781   \n",
       "having_Sub_Domain             0.125493    -0.005764   0.120730      0.057673   \n",
       "SSLfinal_State                0.050972     0.258768   0.074545      0.096051   \n",
       "Domain_registeration_length  -0.010477    -0.134454  -0.059898     -0.039766   \n",
       "port                          0.054849    -0.028543   0.017954     -0.005413   \n",
       "HTTPS_token                   0.395387    -0.039708   0.021104      0.115450   \n",
       "Request_URL                   0.015933     0.161166   0.055734      0.046409   \n",
       "URL_of_Anchor                 0.093288     0.326293   0.099261      0.038816   \n",
       "Links_in_tags                -0.038545     0.064548  -0.006450      0.045557   \n",
       "SFH                           0.034440     0.052706   0.001979      0.027588   \n",
       "Abnormal_URL                  0.366833    -0.052416   0.007318      0.124751   \n",
       "on_mouseover                  0.087161    -0.036531   0.015634     -0.006510   \n",
       "age_of_domain                -0.034082     0.089949  -0.147194     -0.028471   \n",
       "DNSRecord                     1.000000     0.048650   0.137860      0.137509   \n",
       "web_traffic                   0.048650     1.000000   0.030984     -0.012584   \n",
       "Page_Rank                     0.137860     0.030984   1.000000      0.032431   \n",
       "Google_Index                  0.137509    -0.012584   0.032431      1.000000   \n",
       "Links_pointing_to_page       -0.318266    -0.019860  -0.028216     -0.038777   \n",
       "Statistical_report            0.136860     0.009223   0.031049     -0.005103   \n",
       "Result                        0.075718     0.346103   0.104645      0.128950   \n",
       "\n",
       "                             Links_pointing_to_page  Statistical_report  \\\n",
       "having_IPhaving_IP_Address                -0.339065           -0.019103   \n",
       "URLURL_Length                             -0.022987           -0.067153   \n",
       "Shortining_Service                        -0.198410            0.085461   \n",
       "having_At_Symbol                          -0.010325           -0.001521   \n",
       "double_slash_redirecting                  -0.194165            0.070390   \n",
       "Prefix_Suffix                              0.067423           -0.002763   \n",
       "having_Sub_Domain                         -0.010526            0.081627   \n",
       "SSLfinal_State                            -0.011710            0.063411   \n",
       "Domain_registeration_length                0.122672           -0.002212   \n",
       "port                                      -0.139104            0.343987   \n",
       "HTTPS_token                               -0.128724            0.096187   \n",
       "Request_URL                               -0.067109            0.035412   \n",
       "URL_of_Anchor                              0.018651            0.077377   \n",
       "Links_in_tags                              0.013561           -0.087343   \n",
       "SFH                                       -0.009068           -0.005289   \n",
       "Abnormal_URL                              -0.161027            0.186399   \n",
       "on_mouseover                              -0.038551            0.277347   \n",
       "age_of_domain                              0.040407            0.009115   \n",
       "DNSRecord                                 -0.318266            0.136860   \n",
       "web_traffic                               -0.019860            0.009223   \n",
       "Page_Rank                                 -0.028216            0.031049   \n",
       "Google_Index                              -0.038777           -0.005103   \n",
       "Links_pointing_to_page                     1.000000           -0.016817   \n",
       "Statistical_report                        -0.016817            1.000000   \n",
       "Result                                     0.032574            0.079857   \n",
       "\n",
       "                               Result  \n",
       "having_IPhaving_IP_Address   0.094160  \n",
       "URLURL_Length                0.057430  \n",
       "Shortining_Service          -0.067966  \n",
       "having_At_Symbol            -0.009411  \n",
       "double_slash_redirecting    -0.038608  \n",
       "Prefix_Suffix                0.348606  \n",
       "having_Sub_Domain            0.298323  \n",
       "SSLfinal_State               0.714741  \n",
       "Domain_registeration_length -0.225789  \n",
       "port                         0.036419  \n",
       "HTTPS_token                 -0.039854  \n",
       "Request_URL                  0.253372  \n",
       "URL_of_Anchor                0.692935  \n",
       "Links_in_tags                0.248229  \n",
       "SFH                          0.221419  \n",
       "Abnormal_URL                -0.060488  \n",
       "on_mouseover                 0.041838  \n",
       "age_of_domain                0.121496  \n",
       "DNSRecord                    0.075718  \n",
       "web_traffic                  0.346103  \n",
       "Page_Rank                    0.104645  \n",
       "Google_Index                 0.128950  \n",
       "Links_pointing_to_page       0.032574  \n",
       "Statistical_report           0.079857  \n",
       "Result                       1.000000  \n",
       "\n",
       "[25 rows x 25 columns]"
      ]
     },
     "execution_count": 173,
     "metadata": {},
     "output_type": "execute_result"
    }
   ],
   "source": [
    "df.corr()"
   ]
  },
  {
   "cell_type": "markdown",
   "metadata": {
    "id": "7cpqZlC5C6Y7"
   },
   "source": [
    "## Split the dataset"
   ]
  },
  {
   "cell_type": "code",
   "execution_count": 174,
   "metadata": {
    "id": "q_EJmiwNDCA3"
   },
   "outputs": [],
   "source": [
    "from sklearn.model_selection import train_test_split,cross_val_score"
   ]
  },
  {
   "cell_type": "code",
   "execution_count": 175,
   "metadata": {
    "colab": {
     "base_uri": "https://localhost:8080/",
     "height": 215
    },
    "id": "E144TMTbDIqD",
    "outputId": "86adba93-e3f0-4f98-f36f-4d1ee29abae8"
   },
   "outputs": [
    {
     "data": {
      "text/html": [
       "<div>\n",
       "<style scoped>\n",
       "    .dataframe tbody tr th:only-of-type {\n",
       "        vertical-align: middle;\n",
       "    }\n",
       "\n",
       "    .dataframe tbody tr th {\n",
       "        vertical-align: top;\n",
       "    }\n",
       "\n",
       "    .dataframe thead th {\n",
       "        text-align: right;\n",
       "    }\n",
       "</style>\n",
       "<table border=\"1\" class=\"dataframe\">\n",
       "  <thead>\n",
       "    <tr style=\"text-align: right;\">\n",
       "      <th></th>\n",
       "      <th>having_IPhaving_IP_Address</th>\n",
       "      <th>URLURL_Length</th>\n",
       "      <th>Shortining_Service</th>\n",
       "      <th>having_At_Symbol</th>\n",
       "      <th>double_slash_redirecting</th>\n",
       "      <th>Prefix_Suffix</th>\n",
       "      <th>having_Sub_Domain</th>\n",
       "      <th>SSLfinal_State</th>\n",
       "      <th>Domain_registeration_length</th>\n",
       "      <th>port</th>\n",
       "      <th>...</th>\n",
       "      <th>SFH</th>\n",
       "      <th>Abnormal_URL</th>\n",
       "      <th>on_mouseover</th>\n",
       "      <th>age_of_domain</th>\n",
       "      <th>DNSRecord</th>\n",
       "      <th>web_traffic</th>\n",
       "      <th>Page_Rank</th>\n",
       "      <th>Google_Index</th>\n",
       "      <th>Links_pointing_to_page</th>\n",
       "      <th>Statistical_report</th>\n",
       "    </tr>\n",
       "  </thead>\n",
       "  <tbody>\n",
       "    <tr>\n",
       "      <th>0</th>\n",
       "      <td>-1</td>\n",
       "      <td>1</td>\n",
       "      <td>1</td>\n",
       "      <td>1.0</td>\n",
       "      <td>-1</td>\n",
       "      <td>-1</td>\n",
       "      <td>-1</td>\n",
       "      <td>-1</td>\n",
       "      <td>-1</td>\n",
       "      <td>1</td>\n",
       "      <td>...</td>\n",
       "      <td>-1</td>\n",
       "      <td>-1</td>\n",
       "      <td>1</td>\n",
       "      <td>-1</td>\n",
       "      <td>-1</td>\n",
       "      <td>-1</td>\n",
       "      <td>-1</td>\n",
       "      <td>1</td>\n",
       "      <td>1</td>\n",
       "      <td>-1</td>\n",
       "    </tr>\n",
       "    <tr>\n",
       "      <th>1</th>\n",
       "      <td>1</td>\n",
       "      <td>1</td>\n",
       "      <td>1</td>\n",
       "      <td>-1.0</td>\n",
       "      <td>1</td>\n",
       "      <td>-1</td>\n",
       "      <td>0</td>\n",
       "      <td>1</td>\n",
       "      <td>-1</td>\n",
       "      <td>1</td>\n",
       "      <td>...</td>\n",
       "      <td>-1</td>\n",
       "      <td>1</td>\n",
       "      <td>1</td>\n",
       "      <td>-1</td>\n",
       "      <td>-1</td>\n",
       "      <td>0</td>\n",
       "      <td>-1</td>\n",
       "      <td>1</td>\n",
       "      <td>1</td>\n",
       "      <td>1</td>\n",
       "    </tr>\n",
       "    <tr>\n",
       "      <th>2</th>\n",
       "      <td>1</td>\n",
       "      <td>0</td>\n",
       "      <td>1</td>\n",
       "      <td>1.0</td>\n",
       "      <td>1</td>\n",
       "      <td>-1</td>\n",
       "      <td>-1</td>\n",
       "      <td>-1</td>\n",
       "      <td>-1</td>\n",
       "      <td>1</td>\n",
       "      <td>...</td>\n",
       "      <td>-1</td>\n",
       "      <td>-1</td>\n",
       "      <td>1</td>\n",
       "      <td>1</td>\n",
       "      <td>-1</td>\n",
       "      <td>1</td>\n",
       "      <td>-1</td>\n",
       "      <td>1</td>\n",
       "      <td>0</td>\n",
       "      <td>-1</td>\n",
       "    </tr>\n",
       "    <tr>\n",
       "      <th>3</th>\n",
       "      <td>1</td>\n",
       "      <td>0</td>\n",
       "      <td>1</td>\n",
       "      <td>-1.0</td>\n",
       "      <td>1</td>\n",
       "      <td>-1</td>\n",
       "      <td>-1</td>\n",
       "      <td>-1</td>\n",
       "      <td>1</td>\n",
       "      <td>1</td>\n",
       "      <td>...</td>\n",
       "      <td>-1</td>\n",
       "      <td>1</td>\n",
       "      <td>1</td>\n",
       "      <td>-1</td>\n",
       "      <td>-1</td>\n",
       "      <td>1</td>\n",
       "      <td>-1</td>\n",
       "      <td>1</td>\n",
       "      <td>-1</td>\n",
       "      <td>1</td>\n",
       "    </tr>\n",
       "    <tr>\n",
       "      <th>4</th>\n",
       "      <td>1</td>\n",
       "      <td>0</td>\n",
       "      <td>-1</td>\n",
       "      <td>1.0</td>\n",
       "      <td>1</td>\n",
       "      <td>-1</td>\n",
       "      <td>1</td>\n",
       "      <td>1</td>\n",
       "      <td>-1</td>\n",
       "      <td>1</td>\n",
       "      <td>...</td>\n",
       "      <td>-1</td>\n",
       "      <td>1</td>\n",
       "      <td>-1</td>\n",
       "      <td>-1</td>\n",
       "      <td>-1</td>\n",
       "      <td>0</td>\n",
       "      <td>-1</td>\n",
       "      <td>1</td>\n",
       "      <td>1</td>\n",
       "      <td>1</td>\n",
       "    </tr>\n",
       "  </tbody>\n",
       "</table>\n",
       "<p>5 rows × 24 columns</p>\n",
       "</div>"
      ],
      "text/plain": [
       "   having_IPhaving_IP_Address  URLURL_Length  Shortining_Service  \\\n",
       "0                          -1              1                   1   \n",
       "1                           1              1                   1   \n",
       "2                           1              0                   1   \n",
       "3                           1              0                   1   \n",
       "4                           1              0                  -1   \n",
       "\n",
       "   having_At_Symbol  double_slash_redirecting  Prefix_Suffix  \\\n",
       "0               1.0                        -1             -1   \n",
       "1              -1.0                         1             -1   \n",
       "2               1.0                         1             -1   \n",
       "3              -1.0                         1             -1   \n",
       "4               1.0                         1             -1   \n",
       "\n",
       "   having_Sub_Domain  SSLfinal_State  Domain_registeration_length  port  ...  \\\n",
       "0                 -1              -1                           -1     1  ...   \n",
       "1                  0               1                           -1     1  ...   \n",
       "2                 -1              -1                           -1     1  ...   \n",
       "3                 -1              -1                            1     1  ...   \n",
       "4                  1               1                           -1     1  ...   \n",
       "\n",
       "   SFH  Abnormal_URL  on_mouseover  age_of_domain  DNSRecord  web_traffic  \\\n",
       "0   -1            -1             1             -1         -1           -1   \n",
       "1   -1             1             1             -1         -1            0   \n",
       "2   -1            -1             1              1         -1            1   \n",
       "3   -1             1             1             -1         -1            1   \n",
       "4   -1             1            -1             -1         -1            0   \n",
       "\n",
       "   Page_Rank  Google_Index  Links_pointing_to_page  Statistical_report  \n",
       "0         -1             1                       1                  -1  \n",
       "1         -1             1                       1                   1  \n",
       "2         -1             1                       0                  -1  \n",
       "3         -1             1                      -1                   1  \n",
       "4         -1             1                       1                   1  \n",
       "\n",
       "[5 rows x 24 columns]"
      ]
     },
     "execution_count": 175,
     "metadata": {},
     "output_type": "execute_result"
    }
   ],
   "source": [
    "X= df.drop(columns='Result')\n",
    "X.head()"
   ]
  },
  {
   "cell_type": "code",
   "execution_count": 176,
   "metadata": {
    "colab": {
     "base_uri": "https://localhost:8080/",
     "height": 195
    },
    "id": "EZYA4g9_DLhn",
    "outputId": "6968573a-d220-4ef9-c796-efbf67e25add"
   },
   "outputs": [
    {
     "data": {
      "text/html": [
       "<div>\n",
       "<style scoped>\n",
       "    .dataframe tbody tr th:only-of-type {\n",
       "        vertical-align: middle;\n",
       "    }\n",
       "\n",
       "    .dataframe tbody tr th {\n",
       "        vertical-align: top;\n",
       "    }\n",
       "\n",
       "    .dataframe thead th {\n",
       "        text-align: right;\n",
       "    }\n",
       "</style>\n",
       "<table border=\"1\" class=\"dataframe\">\n",
       "  <thead>\n",
       "    <tr style=\"text-align: right;\">\n",
       "      <th></th>\n",
       "      <th>Result</th>\n",
       "    </tr>\n",
       "  </thead>\n",
       "  <tbody>\n",
       "    <tr>\n",
       "      <th>0</th>\n",
       "      <td>-1</td>\n",
       "    </tr>\n",
       "    <tr>\n",
       "      <th>1</th>\n",
       "      <td>-1</td>\n",
       "    </tr>\n",
       "    <tr>\n",
       "      <th>2</th>\n",
       "      <td>-1</td>\n",
       "    </tr>\n",
       "    <tr>\n",
       "      <th>3</th>\n",
       "      <td>-1</td>\n",
       "    </tr>\n",
       "    <tr>\n",
       "      <th>4</th>\n",
       "      <td>1</td>\n",
       "    </tr>\n",
       "  </tbody>\n",
       "</table>\n",
       "</div>"
      ],
      "text/plain": [
       "   Result\n",
       "0      -1\n",
       "1      -1\n",
       "2      -1\n",
       "3      -1\n",
       "4       1"
      ]
     },
     "execution_count": 176,
     "metadata": {},
     "output_type": "execute_result"
    }
   ],
   "source": [
    "Y=df['Result']\n",
    "Y=pd.DataFrame(Y)\n",
    "Y.head()"
   ]
  },
  {
   "cell_type": "code",
   "execution_count": 177,
   "metadata": {
    "id": "-S_NPHSd0-kX"
   },
   "outputs": [],
   "source": [
    "train_X,test_X,train_Y,test_Y=train_test_split(X,Y,test_size=0.40,random_state=10)"
   ]
  },
  {
   "cell_type": "code",
   "execution_count": 178,
   "metadata": {
    "colab": {
     "base_uri": "https://localhost:8080/"
    },
    "id": "Ajr1EBpu1Ugu",
    "outputId": "eafed44f-1ff8-4e1d-d825-d07061b97ba4"
   },
   "outputs": [
    {
     "name": "stdout",
     "output_type": "stream",
     "text": [
      "Training set has 6633 samples.\n",
      "Testing set has 4422 samples.\n"
     ]
    }
   ],
   "source": [
    "print(\"Training set has {} samples.\".format(train_X.shape[0]))\n",
    "print(\"Testing set has {} samples.\".format(test_X.shape[0]))"
   ]
  },
  {
   "cell_type": "markdown",
   "metadata": {
    "id": "wWMC5huf8XBW"
   },
   "source": [
    "## Lets apply Random Forest Classifier and check its accuracy\n",
    "\n"
   ]
  },
  {
   "cell_type": "code",
   "execution_count": 179,
   "metadata": {
    "id": "aBlhi5jZ8MdA"
   },
   "outputs": [],
   "source": [
    "from sklearn.ensemble import RandomForestClassifier\n"
   ]
  },
  {
   "cell_type": "code",
   "execution_count": 180,
   "metadata": {
    "colab": {
     "base_uri": "https://localhost:8080/"
    },
    "id": "PKVJBHCB8dZE",
    "outputId": "7131023c-7037-4346-c1ac-d506530dcb32"
   },
   "outputs": [
    {
     "name": "stderr",
     "output_type": "stream",
     "text": [
      "<ipython-input-180-749d4f1c8dd2>:2: DataConversionWarning: A column-vector y was passed when a 1d array was expected. Please change the shape of y to (n_samples,), for example using ravel().\n",
      "  model_4=rfc.fit(train_X,train_Y)\n"
     ]
    }
   ],
   "source": [
    "rfc=RandomForestClassifier()\n",
    "model_4=rfc.fit(train_X,train_Y)"
   ]
  },
  {
   "cell_type": "code",
   "execution_count": 181,
   "metadata": {
    "id": "8Ku5SqLp8foP"
   },
   "outputs": [],
   "source": [
    "rfc_predict=model_4.predict(test_X)\n"
   ]
  },
  {
   "cell_type": "code",
   "execution_count": 182,
   "metadata": {
    "colab": {
     "base_uri": "https://localhost:8080/"
    },
    "id": "ugfhO-k48hw0",
    "outputId": "1ad2f019-bb0d-414e-c8f3-842ee5669c4b"
   },
   "outputs": [
    {
     "name": "stdout",
     "output_type": "stream",
     "text": [
      "The accuracy of Random Forest Classifier is:  96.58525554047942\n"
     ]
    }
   ],
   "source": [
    "print('The accuracy of Random Forest Classifier is: ' , 100.0 * accuracy_score(rfc_predict,test_Y))\n"
   ]
  },
  {
   "cell_type": "code",
   "execution_count": 183,
   "metadata": {
    "colab": {
     "base_uri": "https://localhost:8080/"
    },
    "id": "aTVaREQ18jMX",
    "outputId": "96723c9e-3c1c-4b84-f1f5-b57021c518a1"
   },
   "outputs": [
    {
     "name": "stdout",
     "output_type": "stream",
     "text": [
      "              precision    recall  f1-score   support\n",
      "\n",
      "          -1       0.96      0.96      0.96      1909\n",
      "           1       0.97      0.97      0.97      2513\n",
      "\n",
      "    accuracy                           0.97      4422\n",
      "   macro avg       0.96      0.97      0.97      4422\n",
      "weighted avg       0.97      0.97      0.97      4422\n",
      "\n"
     ]
    }
   ],
   "source": [
    "print(classification_report(rfc_predict,test_Y))\n"
   ]
  },
  {
   "cell_type": "code",
   "execution_count": 187,
   "metadata": {},
   "outputs": [],
   "source": [
    "saved_model=pickle.dumps(model_4)\n"
   ]
  },
  {
   "cell_type": "code",
   "execution_count": 188,
   "metadata": {},
   "outputs": [],
   "source": [
    "modelfrom_pickle = pickle.loads(saved_model)"
   ]
  },
  {
   "cell_type": "code",
   "execution_count": 190,
   "metadata": {},
   "outputs": [],
   "source": [
    "y_pred=modelfrom_pickle.predict(test_X)"
   ]
  },
  {
   "cell_type": "code",
   "execution_count": 191,
   "metadata": {},
   "outputs": [
    {
     "name": "stdout",
     "output_type": "stream",
     "text": [
      "0.9658525554047942\n"
     ]
    }
   ],
   "source": [
    "print(accuracy_score(test_Y,y_pred))"
   ]
  },
  {
   "cell_type": "code",
   "execution_count": 192,
   "metadata": {},
   "outputs": [],
   "source": [
    "import joblib\n"
   ]
  },
  {
   "cell_type": "code",
   "execution_count": 193,
   "metadata": {},
   "outputs": [
    {
     "data": {
      "text/plain": [
       "['pickle.pkl']"
      ]
     },
     "execution_count": 193,
     "metadata": {},
     "output_type": "execute_result"
    }
   ],
   "source": [
    "joblib.dump(model_4,'pickle.pkl')"
   ]
  },
  {
   "cell_type": "code",
   "execution_count": 194,
   "metadata": {},
   "outputs": [
    {
     "data": {
      "text/plain": [
       "['transform.pkl']"
      ]
     },
     "execution_count": 194,
     "metadata": {},
     "output_type": "execute_result"
    }
   ],
   "source": [
    "joblib.dump(X,'transform.pkl')"
   ]
  },
  {
   "cell_type": "code",
   "execution_count": null,
   "metadata": {},
   "outputs": [],
   "source": []
  }
 ],
 "metadata": {
  "colab": {
   "collapsed_sections": [],
   "name": "Phishing_Website.ipynb",
   "provenance": []
  },
  "kernelspec": {
   "display_name": "Python 3",
   "language": "python",
   "name": "python3"
  },
  "language_info": {
   "codemirror_mode": {
    "name": "ipython",
    "version": 3
   },
   "file_extension": ".py",
   "mimetype": "text/x-python",
   "name": "python",
   "nbconvert_exporter": "python",
   "pygments_lexer": "ipython3",
   "version": "3.9.0"
  }
 },
 "nbformat": 4,
 "nbformat_minor": 1
}
